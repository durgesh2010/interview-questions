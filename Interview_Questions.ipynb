{
  "nbformat": 4,
  "nbformat_minor": 0,
  "metadata": {
    "colab": {
      "provenance": [],
      "authorship_tag": "ABX9TyN5RJDfMCkpPlixMuzMHp/S",
      "include_colab_link": true
    },
    "kernelspec": {
      "name": "python3",
      "display_name": "Python 3"
    },
    "language_info": {
      "name": "python"
    }
  },
  "cells": [
    {
      "cell_type": "markdown",
      "metadata": {
        "id": "view-in-github",
        "colab_type": "text"
      },
      "source": [
        "<a href=\"https://colab.research.google.com/github/durgesh2010/interview-questions/blob/main/Interview_Questions.ipynb\" target=\"_parent\"><img src=\"https://colab.research.google.com/assets/colab-badge.svg\" alt=\"Open In Colab\"/></a>"
      ]
    },
    {
      "cell_type": "code",
      "execution_count": null,
      "metadata": {
        "id": "7nCa_Jvbd_1N"
      },
      "outputs": [],
      "source": []
    },
    {
      "cell_type": "markdown",
      "source": [
        "# Find and read 20 interview questions for Data Types, Operators, Conditional Statements, Looping Statements, Functions."
      ],
      "metadata": {
        "id": "J1kFc3GlfD3T"
      }
    },
    {
      "cell_type": "code",
      "source": [],
      "metadata": {
        "id": "tS6eMWtGfFWr"
      },
      "execution_count": null,
      "outputs": []
    },
    {
      "cell_type": "markdown",
      "source": [
        "# 1. What is Python?\n",
        "\n",
        "Python is a high-level, interpreted, interactive, and object-oriented scripting language. It uses English keywords frequently. Whereas, other languages use punctuation, Python has fewer syntactic constructions.\n",
        "Python is designed to be highly readable and compatible with different platforms such as Mac, Windows, Linux, Raspberry Pi, etc."
      ],
      "metadata": {
        "id": "YiQyDmj_fKDO"
      }
    },
    {
      "cell_type": "code",
      "source": [],
      "metadata": {
        "id": "QIyJS8-5fPdf"
      },
      "execution_count": null,
      "outputs": []
    },
    {
      "cell_type": "markdown",
      "source": [
        "# 2. Python is an interpreted language. Explain.\n",
        "\n",
        "  An interpreted language is any programming language that executes its statements line by line. Programs written in Python run directly from the source code, with no intermediary compilation step."
      ],
      "metadata": {
        "id": "oC4DtI19fP2M"
      }
    },
    {
      "cell_type": "code",
      "source": [],
      "metadata": {
        "id": "E9sbtHnTffsR"
      },
      "execution_count": null,
      "outputs": []
    },
    {
      "cell_type": "markdown",
      "source": [
        "# 3. How is Memory managed in Python?\n",
        "  Memory in Python is managed by Python private heap space. All Python objects and data structures are located in a private heap. This private heap is taken care of by Python Interpreter itself, and a programmer doesn’t have access to this private heap.\n",
        "  Python memory manager takes care of the allocation of Python private heap space.\n",
        "  Memory for Python private heap space is made available by Python’s in-built garbage collector, which recycles and frees up all the unused memory."
      ],
      "metadata": {
        "id": "gIKkb-3qfgYy"
      }
    },
    {
      "cell_type": "code",
      "source": [],
      "metadata": {
        "id": "yVmnSVTqfqCt"
      },
      "execution_count": null,
      "outputs": []
    },
    {
      "cell_type": "markdown",
      "source": [
        "# 4. What are the common built-in data types in Python?\n",
        "Python supports the below-mentioned built-in data types:\n",
        "\n",
        "#  Immutable data types:\n",
        "\n",
        "  Number\n",
        "\n",
        "  String\n",
        "\n",
        "  Tuple\n",
        "\n",
        "#  Mutable data types:\n",
        "\n",
        "  List\n",
        "\n",
        "  Dictionary\n",
        "\n",
        "  set\n"
      ],
      "metadata": {
        "id": "rIa_58Zkfrss"
      }
    },
    {
      "cell_type": "code",
      "source": [],
      "metadata": {
        "id": "ncI-IAXsgDLE"
      },
      "execution_count": null,
      "outputs": []
    },
    {
      "cell_type": "markdown",
      "source": [
        "#5. How does break, continue, and pass work?\n",
        "\n",
        "These statements help to change the phase of execution from the normal flow that is why they are termed loop control statements.\n",
        "\n",
        "Python break: This statement helps terminate the loop or the statement and pass the control to the next statement.\n",
        "\n",
        "Python continue: This statement helps force the execution of the next iteration when a specific condition meets, instead of terminating it.\n",
        "\n",
        "Python pass: This statement helps write the code syntactically and wants to skip the execution. It is also considered a null operation as nothing happens when you execute the pass statement."
      ],
      "metadata": {
        "id": "hVNc-XSjgEE2"
      }
    },
    {
      "cell_type": "code",
      "source": [],
      "metadata": {
        "id": "PSJmcNDPg4Wc"
      },
      "execution_count": null,
      "outputs": []
    },
    {
      "cell_type": "markdown",
      "source": [
        "#6. How will you convert a list into a string?\n",
        "\n",
        "We will use the join() method for this."
      ],
      "metadata": {
        "id": "baGDaFJ2igZF"
      }
    },
    {
      "cell_type": "code",
      "source": [],
      "metadata": {
        "id": "RqBaoW0yii4D"
      },
      "execution_count": null,
      "outputs": []
    },
    {
      "cell_type": "markdown",
      "source": [
        "# Q.7 Explain the //, %, and ** operators in Python.\n",
        "\n",
        "The // operator performs floor division. It will return the integer part of the result on division.\n",
        "\n",
        ">>> 7//2\n",
        "\n",
        "3\n",
        "\n",
        "Normal division would return 3.5 here.\n",
        "\n",
        "Similarly, ** performs exponentiation. a**b returns the value of a raised to the power b.\n",
        "\n",
        ">>> 2**10\n",
        "\n",
        "1024\n",
        "\n",
        "\n",
        "Finally, % is for modulus. This gives us the value left after the highest achievable division.\n",
        "\n",
        ">>> 13%7\n",
        "\n",
        "6\n",
        "\n",
        ">>> 3.5%1.5\n",
        "\n",
        "0.5"
      ],
      "metadata": {
        "id": "PgIBDVqkkOU9"
      }
    },
    {
      "cell_type": "code",
      "source": [],
      "metadata": {
        "id": "QJWIsSW7khNH"
      },
      "execution_count": null,
      "outputs": []
    },
    {
      "cell_type": "markdown",
      "source": [
        "# Q.8 Python assignment operators"
      ],
      "metadata": {
        "id": "ESYdNQ4OlBPG"
      }
    },
    {
      "cell_type": "markdown",
      "source": [
        "![image.png](data:image/png;base64,iVBORw0KGgoAAAANSUhEUgAAAxYAAAGkCAYAAACsI7PwAAAgAElEQVR4nOzde3gb5Z0v8O/M6GK9vsqS48TgNDhADAGW4DQ0bYDQmLbps5QFjv1sL3Q57KlZtk3ZHJo63T5nUfq0JabdTXeBQHwoZFug1C6wMaVZsFMoxUtzcb1NDhdTYsDKzYll+aZXtqWZOX/MjD2WZyTZli9Jfp/n0RNHmsurmdHM+3uvACGEEEIIIYQQQgghhBBCCCGEEEIIIYQQQgghhBBCCCGEEEIIIYQQQgghhBBCCCGEEEIIIYQQQgghhBBCCCGEEEIIIYQQQgghhBBCCCGEEEIIIYQQQgghhBBCCCGEEEIIIYQQQgghhBBCCCGEEEIIIYQQQgghhBBCCCGEEHIekyRJncpLFMVDoijWznU6RVGskSSpweazoxZpbZ7rNC5Eoij2JjmX2+c7fVNQZvMd5vxaJBlTJoridlEUazK9YVEUa0VR3G5z7Tfr101Fpvd7Pkp2byaEEHKemWpgYcrQHcUcPJj1DMJR0z6tlqHAwoIkSVUpzmHvfKdxCiiwOHdUiKK4y3QOMxZYiKJYO8V7WTOAskzt/3ySzr2ZkPOZY74TQMjZRBCEMlEUGxRFWQ0gnOnti6JYIwjCrkxv9zxTlexDQRC8kiRVybLcOFcJIue1MkmSdgGonIVte0VRbBYEYaqFHZWSJB2VZfkmAC2zkK5zDt2bCUkPBRZkRu6669u5S5ey7Ehk/D2nc1QdHXWpsoz4yAhG98dPjLTV18fmL5WZpQcXNYqi1M3CtpNmiklKXqQILHRVAM6GwKJTlmVhvhNBZqQMsxNUYJpBxRhJkpplWV4NoC2DyTon0b2ZkPSI850AcnZT8pjkAcTs7PGXy+WScnLgyM9H1qJFyLu5pKTovvsC/qqqzZ75Tm8G0UNmARJFMd3zUgUtCCHkrCSKYu1MggqDJElnU58jQsgCR4EFmZGYDCWaxnK5uXCtXJnv3bw5UAgEkl93NbucuPPJLGxu8Iy9anY5M5Pi5GRZvkmWZUF/LYd9M4EyAJAkqcGqDTMsMq1W7aD19v5eSZKa9fUmlWwKglCWsO2U9H4GiWlrsNq+1XfT2xEfsvhuDcna9+sdGq36pYwdA3PfEFEUezPZX8CmVLFFVdVJzdbSbOPuTXIs0u3UP5NtTKmPhX7emxPb00uSVKV/nvjZhG1l+PxVprGt3mTbsjpueuf7lP0DRFGsMfdpSPzOyc6/Vf8l0/KVFtu1+m0Z39+y35MgCLuszsEU2K6jqupW031MUFX1blVVO20Wr0xIe7LzVpHmd7c0k3OS5NqtSPzMIj1e/f5reb9Odm/LxL1Z/96TOtWbrvlkAeKk82Hsy+KZknitZeL+RciUUGBBMoZzDgDweDzweKwrJxYvRlbgQbYIuNxlu6HcknzkFBay/BIvW3yV9ir5eBG+83oR7nwya3qpC4j41p+yUVExlQClU5blaqsPBEEwAgfL5jSSJFk9hKweHo3IcF8N/UHfgMm1Kkam07ZUX39QHRUEYbtNeqsEQdiuZwinUmtTJoriIX27Y5lCQRC8+vYOTWFbtvuAxcNfVdUWQRCsAsSk6dcz6b1JjgUEQajQ02/ZqT8T20iXKIq7oJ33SRlcAEkDwjRk8vx5TdsaC8ATtuWVJKnZ6rgJglCrL2N3rCpEUTwqCMIuQRAsM6r6dnel2M4k+u+j2WK7KX9bmSRJUpX52CWoTmymqShKvaIoq+2CC1EUUwYGetB5yO67p7i+ZuuceEVRTBXYVOr73o7kv/mqTPwOE1To1/ouQRAmHR/jmpck6ZB+3067FlWvsbKtbZrLew8hZhRYkBnJHokKPp8WSJSW+uDxeNDREUR7ezu6urrGggzOOTjnCIU4PKoq1tX9jR92fXwUp8L8peDvH1T589tk/vyPZd7VDlawyMmWrS3EhWun3qRq06d9LEfOR1tbRptjybLcaPWwVlXVKoNrFWxkuuNkJVJkmFVVteyAKIrirmQPKjM9U9MwhVL/hmTNNgRBqJhpyZldMyhFUVpUVZ10nPX02KWpDFomPS1Gp/5Z2EZa9ExG0nOhn9vptPXP6PmTJGlXqm1JktSbLK16B3yra7VCz/ymNeKRnu60RkgSBKEq1e/D7reVaaqqWqZXVdW2JIMShAHU23yW9LoQBKEsVcdlPYNs9RuczXNSa7HdFozXNJfpgWDaGfaZ/A4TVEyxD0yV/r3TSqvVtSjLshFQztm9h5BEFFiQGQmHO0ffef13yn+3viL/qfkV+chvf6s+8cTDQ3/+85/7hoeHo7t27Yq0t7ejtLQUjDEAQCgUAmMMW7Zs8QOw7pjq8QOHX5ex/xensf/x03jib8/w574zAg8DvvQjL8aDEgHrX3Vg02/cuPPJLFQ1uBBIaGq1PuBAliyBc+DCtQ5U1DghSuOfiyIgOQCHC1JekRNVDcaHFZLNOOUJTWusHtaJD9jKxIebqqrh+RiZyBgVyfyePuLJlIe/1DMbSTMAeqlcOg/XmZb2TlpfVdU2AG2KolgeZ7tgxCpgUlW13tS85KbEgFJ/ONdmchtp8iJJs5iZyuT50zOBmSrVr8TETJh3Opkj/feQTkCQMiiz+m3NErvfXNKCCkVRLD/PRF8NAFBVNTGzO9vnxCoNY7/16RZW6NfpjDrc68H4lPpx6UHVtPq86PeSFn3fc3XvIWQSCizI1NXscmJzgweBV3MaUena2ZWv/uLDEvXx8FLlqZNMBjDU1tbG7733XjEQCMSfffbZ04899tiwz+cbCy6CwSDKy8vFDRtuLbTeCQdyigFA1V8xHHghxE++rbLSFcDSdbkAgEBAYBuXL2K+Mh9btraQrbzKD2d1MSpqmL4hgW28axGEmMh5CGzTL7PYt3YVCZ68sT0J2T4I2YUQPAUQJMdvHM33xiVPripJ0iHYPFzMNQ2KokwKLPQHyti6Nk0NxtYz+nbAImOgqmqnub209fGaoNG0rGVGwqLE0/Jhpqrq3aZ22palnek8jPQgyui/cpPNYjMZV7/CJnNkfP8wrJut2QVTVhkC84O4RVGU5ebzIsuykNAEJRPbSEmSpElBKzBWer3clJGYdpO7TJ4/87ZUVb07yaLGdVyoB4hWxs65HhxPSkNChqoQ1tdBYj+DVGlK57fVkux4mX9bUz3nSUr/U53jGTW7NKV5udU5ScyQz8U50e+Pq41jnXA/tuxzJctyoWn/q622K4piBTC9e7Neg2h1jloSfpOTarv1Ap50f0t1pmvI/Fuak3sPIVYosCDpWR9wYNNv8nBvSzEKLipizgIvemJ5uGhlNjbeL+G27zpQ/aATn7vHAUACgGuvvXbwjjvuyO/t7c1+6623erdt2zY4HlwwBINBfOYzn3ADcKedjhgfBQ8Bl1RofTQCAYW/UjfCH62O8598jvNnvzOC/l6BbfhqAbRaDZW/uDWKniCYvxT8dw8p/PGvyerI+Pi4anQAaiQMNRKCGukF5BiErFxMqNVIIMuy+eFlmWlNCCYmPSDtStFnSpblu01/b021vF17bVVVt5of0vqDa8p9FXR1pnVbYHG8plq6Z2ZX8yAIwljmxyYjZFfCPCkDpjf1UEVt1uRaPaBKlvHJxDZSsmsWIwhCHcYzEy0AUl4LSWTy/I1tS1GUerugwXQdh/XvMokoiubvbpmJTMhwhWVZrrbpzJ/0POgB0ZR+W+cSVVXrTfeDzoTjOsbIkOtm9Zzo6jA+XO6E+5OiKIWJmWc90AtDa6pUq/dNsjKTgg6r2tOw3mdv7DeZ5BimvKeqqtqpKIr5GjR/9zm59xBihQILklpNcz7WfHIRPI4cuBUJADgAMP0v3gXwLrBQEOgJAnpgAWD0lltuGfR6vdmDg4NFPT09gzt27I6UlpYC0Ppc+P0MGzduzLParSUX00becLsEGM2o9j0SQne8D/7Lohg6xXGyMw5zrcYbz4SR+zEZHgb85vEo9j3ejfjo+DbjI4AcB1QVUFWo8RFAEAGHbbzTiIQHWEKgYTBu2pOakuglVRkfO17PpJkfKilLKO0yplbNJmz6KniRujnUhJK5mZSe27Cq+p/Q1MyqZkk36SGeZFmjXfd2/UFtjEbTgIRjkIltzIQsy4mZrGn358nk+UvcliAIk7aVeB3LspzO/qyOneWIOlZBUBp9ADoxxd/WbEkywlOq4M6ub0bK72LRH6zNZr0ym78NmTwnaRfQGJlp0+/NGEBgNjotT0q3fvwSj1fSUQdTsP3e833vIec3CiyIvfUBB7718iIUqNlJl+OT3hkbdq+pqWmwp6dHzcnJcba0tPg6O9v6Dx8+LDPGwBhDTw/HlVde6QSQ3mhNkuAAGBA6pjeRCoh44LA3+5EDhezeX/lYbZMXS8ocCIWALMd4lYN3mYpQD1DomzwkoDsbQq4fQn4xhNwiCO5sQInb1Vi02IwU1WLRZrUCWqmYVemT7Y1/JqwyaTNgta1pbT/NjOG02NW46LUR5sxLr80mrOa06ARgOSKY3TYsRrPJxDYWhEyev3S2NZ3reCY1Xrqk62f4tzVTdmlJWgKdUJtgZheojLE5b0mPyWyfEz2wSZYGrzG8rZGZxhyU0tvUAFumM0mQmEqy733O3HvI2YcCC2JtfcCBqz9RBFEYH7mJRwEwMLYUYH7t7zQ2NTQ0FA0Gg9iwYYO7pqaGPdPcHPH5fACAaDQKn68UFxcWjo/WlG9TgVHVIGnp4cA7L2kzef/wyz42EvdEfv+IyH/wFzG+6eIo3v2dDF9pwsoRrYZFVSb2UXDnQHAxQIlDHQxBHeiGOjwIiA6Y4iOoqloHoDpJ+3LAIlgQRbFSEIQ5awaVYVYP9QU3qZzVaFtTZdXZUZblRr19/1akMUu31UhFmdjGDEzIJEiSdE5nGmZaC6aq6oK7tu2Ym/glvF+RpPO4F/Z9ilLWZkmSNOX7wRyck6Tb10dlsqrNbFNVdasx38dM0mjF6nvbBVnpjpZlIel3n+d7DzmPUWBBrAj4+Mf9cInaDVevkWClKwBw8F9tk3P2PBDL37s1yt99TWZ+f6rtDQPaPBfV1dW5RViEUCg09iFjQOHFF5tqLPIBMOD0W+baBQGLUch85eAd7cDAAAcgsNwCJ+8JAs/WDuLU+2eA/jCKLokBHBBNExaNigLAgHDnhBoLwekGBAFqpA+QRyHH4zfJN23Jdm1rv0Be9/USWZYlvVPb1lQjONlUP1dZZHxbYFNCOIPSq2lLbJpisGrfbBUk6Q/ROU+3zosMjDJk9b10YUVR6mRZrk6YbGyrTd+AxJGKMrUNW3ZNnPTRZYxgosJixJ5zjdU12GLRxt7ypSiKZSfeWUrXjMjaMNd2GctJc5ZIklSlZ7LTbvaYyOI+VmGTWTana97OiV6TaRVMVyuKslpRlDq9s3JaAfcU7812Q5AnHi+7+06mrplZvfcQYoUCCzLZ11sKITi1a4NrGX/mKwf/9c9UPPiZyD1XCaM/uSVP7j/yRhg8bzjV5g4ePBgDgFCIY+3atdLVV5c4OzqOyeZlCgoKJrY7ivYAq26W8IW6XGw/mo8trxazCz/hRLQH+OU/ytCDFRh1Jiu+AFRVSQgcYuzST2SBhwCFjZVE5ZQu0wKK6za5sT6QBac+z56qaP86nIAgaMPNbrgnFzwEZCdvAWYhnDhykj4BUeIws1Nq665nBowMQcZLne0yKYnj0uudHK0ehPNW+yKKYrKJwqaiEgltjI022caMuUZmTZ9srE5RFLvaK28mt5GGNpvRZSr0ibeM9uTnehtqy5GFEjrnltnNvoy578hq/JZT9lGyYTuCj9FR1/Tdks1DYp73wZYgCDWmgMVr1+k5oTZl3s5Jkrk+xn5besA17fkbktybLQc3SJgEL/E4jMlEjfYc3XsImYQCCzLRnU9mIVvRei1zaPl2Xzn4Y9+Q8fsfDrzw5A5h59NPe/71iWYto7768yLnPUk3WV1dLcuyrABRMMaQk5MjDQ+HJtQcOBwOEUZn7CWlIgCw1X8tspvuymXD/dkQYiJv/wX4jz8fQ+QDo7pD5Xu+F2H+FWDf3pPLrt9dDN5bwNv3AMwH/NUmF/SO5EM/+6dBzjnYndud7I77CwV3jr6BfkBVIeT4IeQvBi5YmYc/NEgI9YBdWyMAy+xnCLeQzgMhWcc62FRvS5J0VH84zNYEXHaZlLEHvk2TgvB8DlEoCELG5gww9YWpMLfJFsZnzJ0wiorNWPGd0EobM7GNtNmNLnM+0UeYsgqQa0yZ1aOwruGaNCBDBln+pk3p6p1OMzVFUeqSDMObFn2Ag7RHtzIFLL1WgYq+vQlDcS+0cyIIwq6EgCvdoC7te7P+va1+w5X6+Vb1ifushuI1j+Y2HXN67yEkkfXMx+T85S8xdXCIgvlWgT/2Dbn4g6ah197Zn1VevsZ94403Kke6uvoBAIu8AjpPIVVnC1VVVUBrDhWLxQQ9kLD2wDeH+OiRHAh6U6bBEyoGjsUBjGKspkLXUtfPW36qoORjbrgLJPS8I2PwxBA/sMcNbx6D1ilcxps7ouh8RuTFn8xGpBsS79MTpkAd7AEcLkAQIH/YLuOd18K8+CoRl12TCwy4Ju0zuRZVVduSlA42IknbWLu20yazUuqsKEqdKIplU50kTxCEuzG/zaAsSzT1sektj6U+xrxVs6AajA9d2YiEzI5e4ticLEGCIBiZtExsYypaVFW9W0gyO3Kqz88BYf16nFIJtD5s52wGZuEU9wTb0vVUFEW5aYqzOyeuX43Mjk5Xh4SRs+brnCiK0phun4FU5weY8r05rChKtX5u0q4BUFW1LWEI2emY63sPIRNQjQUZV7PLOdZZm0Ob92H/cyo+aIq+fuiQp7x8jbu5uRmvvfbaAACtDdFAMGVQAUAQRVH0eHz46KOP1OPHjwsXXXSRCABc77/R19enwOgt/eHuYZxo68HxAyEcPxDCwLFeAAOwzeD3DOJEWxgf7OvB4IkeAMPobOlH2/PdAEbGFuvujuDwC6dx9L96oMRN66vakLOxYSDa3w8giu7DEby2+zTQO5j28RuXrNYiaY2G3izJ9gGWoWY/lhRFuVvv6JeSaZKz+WwGZRkE6SWktsfQrlbJPLmXPvLXlEpL9cnDxradiW1MhaIo9bIsr05sjqdPorV8JsPNni30Y2c5J4IVPSNnzGswa+zm4ciAsKIoq/VS7qlokWV5OaZwfaaqHdHnvZmUjnk8J53p3M/0ATnshtE2LzfVe3Oboig3TaFWqTFT/Xzm+t5DiBkFFmScu3R8ZCYGcDDg+Udjjwc2Oy6t0Cake/jhh2WYB5jtH0i52UOHDjlEURT8foYXXnhBOXr0KLS5LLT+GwDQ29sr262/efO/eH74w38r+sn/fab4kSefXPzgI48sfuSRRxb/4Ac/KAYgVFTUOBteeqno2ms3JnaKGA9WTP7tiQZfTk6u3e7My1uun4pd9X/ivApJ1r/J7oGoZyBmM7io02fVtezcp6pqvZ6BKMTsNR1Jl10zqFTHuNPuYW8eGljPcFTrx8Iuk9OijyxTaNXELRPbmKI2RVHGZnQ2Bh7AedS8QZblRkVRjNFw7GbHrlNV9W49Izfrx8bIXFulRy8tn1Ea9MElBP06swwyjJGQ9Fmqb8LUv3e9Plt04jXaqM94bRvczNc50e9nNyHhnqCqalg/FsuhTVRnN/HnhHvtNO7NbXrgd7fVeVFVtdN0TqYyPGxK83DvIQSA0aadEAC470U/JLcL0AaS5e92oPzUrpF3Xn3VxcGEUCiIpUuXDkGrPdBs/s9COMUsAGDMD97TATz8xV6YahfeeuutnMsvvzwvGAxi5cqVI7fffrvzsssuE6PRKDwerVP3gw8+OHG7Jps2BfIuvBA5LS2tOH78uKKqEYExBkXJEtrb209XVFQI3/r7vy+6v65u9L333kve4QNAZWVlfigUym5vb5+QzgzyWs2ZoGoz1573beFJxpVJknRUz/B1AlqGKnEhvSP+pCYpdiXN5LxVadVkRs/0U+aTEJIU9bEg4+IeCZI+ShJjQOdh+dabrxXBmMAAtLS0A+amRYaxTt6lQFf7pI8vv/xyxjnHFVdcMbxkyRLxuuuuEzs6OgAAPl8pWlv/CCTJ4Hs8XAV8aG5uTgw+BABq7pVXZnEAnHMFAKqqqqRV120sVAcHRJcrpkYi7uFA4JsDAPDAzqe977f9VgiFQjEAI6iqkr5z8aqCoaHRmM+X57jggsXO559/Kbp379Opq2I0Xv1llLCVSZI0ayN9EGLH3D9Gb1tuTOYYBlCmqmqtIEwuSzofmkgRQgiZGxRYkHFCXDRax3EwQBxRL1u6fCwn0tXVBQCTmiwxvx/w+MGbnwCavj8CIGZ8pqqqp7293bF+/frhAVFUfrBpU1YwGNTW09tBHThwIAatY7alHgAsGsKWLVuY1/sx5wXl5Tj06huxhx4KDADAKu9VAuc9yM/Px7Fjx9DY2KgcOXJEicViQnFxMb74xVtyNmzY4Ny3b1/oP/79Kfm2267N8fl8aG9vFwCgpERyh0JwNzc/BwA43Nqa3izgOn1Uk6T0pjeUgSOzoVNV1bBFG+/KJLONAxgbBSaTnXcJIYScx6iPBbHBgRwgBzlj70SjUQVGp21D/kUiOAdv+AcVTbUDwGAIpuBj27Zt6jXXXMMLCwuVHfff7wmFQuB6j+3S0lI0N7fi1KlTSTtIa9PvMZw8eVJ49dU97ud217lfeeWnOdAD43D+gAoAphlUVVFcPLJmzRrlggsuUEOhKCoqKtwAHPv37x3o73fKehoENDaqjPmxb9+bamtra09ra+vJQSA0ORW2wul0SpzFzpuEAEnmNEiGRoEhhBCSSVRjQcapDgVQTBPV5eDD7u44Jl4nEzszdx+S+c82y4ic7oWppkITEOvr68Wqqirn9ddf75wQVPh8CAaDaGp6dhhp9HPweDx46qlfR4G+foz3DdJHkQLgY+AnTyoA8ONdz/jdfUHXc7/6lXLi+PH4smXLFEEQRGhzWsRLS0vVgwcnVjL095+UkaTWJIUwknSoVlW1jppBkdmkDxfsNY1Zn45qGgWGEEJIJlFgQcbFEYdbm1COcQ6ee4nU/OfXhzdrGXhhyZIlArRarvHmUI9+uV//SwGAQCAgjrhc3qGTg+LISJ9j+fJ7BQAwmj8BgM/nAwewc+dOGUBfqmRFo0xgjKGsrFDt7OxTkRDcRLx5AmMMg6KoAMAlF/lde55owmsHD4YAyEVFyxb19HwEY70Rh0NgpiFy9Un7pnKkEtUBmNSvQlXVekEQWiioIHNBH/2pURTFSgA1NhN/NerDedZjlodYJYQQcv6hplBknNo71jGbcw6svUHY+/KH6tMPbYsAwA033CBAn8naZELzqLfeektwj/a5fT63s6SkQIhGo4hGowC0/t3GMLOPPvqocvr06V4kNq2y4PF4VM45RkdHE/et7fPYmzLnHLd+9rPZAITHduwYWlFejh07dvgDgbrFXV3viD6fDwDGZtHWK04E4+8RSbLcdjr0+QOExJc+7CcFFWQutSmKUqcoynKra1KW5Wp9BCgKKoidFpv7GY0IRQhJiYabJeMCrzoYdy7iPAQwjzZ8bEebjF987cwfX/+Nb9V1G53r1q0bbG1tte0TUVVVJa1cubLY+D/nHIwxeDweMMbQ0dGB3bt3x4aGhsIA4nbbSSAC3lwgHAcQsV6kOLukRPKcOHGiT9tuUc6ll3qz3nvvPRlA1Ostc4fDnQqAQWgBRrb+d7yoqCjnzJkzov7/Kc9bQQghhBBCKLAgie570c8kr0vrCxEFK10F/uIDUbzxaPhPLz+/yHvZasfSpUtP2K1uBBYejzbXnjHyU0dHEG++uU9ta2uLgDLwhBBCCCHnnGk3/yDnqDf/FHd+4essFu8BYk7E4j1gV9/qjA3Ghce23xdemQ/nwOkB6cMzZyw7Oq9cuVLMycnJCYWiOHUqiIMHD2Lv3r3xl1/+NT958uQAgOgcfyNCCCGEEDIHqMaCTLbuHi+7+XseHhyf7I6VloN3vTeCl/95CO//GcD7kyfKG+eG1twobnpRDQUhhBBCyDmMAgti7X89U8wuWSfxYDvAPACPgjEfOPMDnftHkOWJo2RdDIGSYaTRAZsQQgghhJzbqCkUsfbH54Zjl65lbOnHhVhUbxbljAH9/WDeYoezsNjlxFBW7MP9IvpOpZyHghBCCCGEnNtouFliR8bO6jP8D7+MM185mN8PcAAM4ODgvEdbKu6ha4gQQgghhFCNBUlKxbvNPNbzgRTzlzlZ6ZVwCgzOWAwxxOB0+hH771/H0N9FNRaEEEIIIec5CixIaqfeHcaBZ0djJ4+JMUl2xPLzwZgf8C1G7MivZZw5SiM9EUIIIYQQQqbEASAbBcsKcOl6P1CYN98JIoQQQgghhBBCCCGEEEIIIYQQQgghhBBCCCGEEEIIIYQQQgghhBBCCCGEEEIIIYQQQgghhACAMN8JIIQQMnvuuOMrqvH3z3/+FN3zCSGEzBrHfCeAEELIuLvu+nbu0qUsOxIZf8/pHFVHR12qLCM+MoLR/fETI2319bH5SyUhhBAyGQUWhBCygCh5TPIAIrLN77rgcgHQ7tlZN6ME6+8LjHZ19UcaG3fQzPeEEEIWBAosCCFkAYnJUNKJFHJz4Vq5Mt914YUBz44d6AMCit2yCkSoggBsbvCMvRkJx1F/N9V6EEIIyRhxvhNACJmyWgC7AKgJr0P6Z2Xzl7Szgld/LXiccwCAx+OBx+OxXGbxYmQFHmSLgMtddtuJiS6MCi6w/BIvW3yV9ir5eBG+83oR7nwya3qpC4j41p+yUVHhnN76hBBCzjUUWBBy9qiBFkBs1/9OVKF/dhRa4HFWZJ7nWC2AXizgY5M9EhV8Pi2QKC31wePxoKMjiPb2dnR1dY0FGZxzcM4RCnF4VFWsq/sbP2xqoQWoEEQJ/P2DKn9+m8yf/7HMu9rBChY52bK1hbhwrXXUksymTyDPhtUAACAASURBVPtYjpyPtraprzuZVaBs99oF7TwS7TgYx2U2CxTstm0+J4QQQk2hCDlLNAComsLyNQAqAVQDaJuVFJ19dsE6IFtQwuHO0XdeP+IJj4yo2QCGRxziUy+/HKmoqIivWLHCvWvXLmXNmjXZn/rUpxAKhfTgIoTS0lJs2bLF/6Mf/agbWmZvIkEEDr8u4/ALZwAA+x938DW35rHb/9WNL/3IiwfXxQDEAQhY/6qEK6MSBrsFRLIVrHw7joCpqdX6gANZsgTOgQvXOlB8pRNllQoaq2UAQFWDBEBCdkREbrGKU0Pxsc9mzjiHtdCu75YMbZdMZhRWdAK4e57TQgg5C1BgQcjCtwsTg4pOAPX6K2x63wgmjGXLADQDWK2vQxaqml1OZHsdyC+SGt96T0LXayqiDhX5DhX9fSqAoba2NmXnzp2ez33uc6Nf/epXTx85ciTv7/7u77IArclUMBhEeXm5uGHDrYX79r0QmrwTFcgp1v8AAMRw4IUQ/+TdS9jyCoEvXZeLrjfCCAQE5lm+CFEO+LSCau68QkXFiX601XMAAtt41yIeehecD4Bt+mUWlpZm8eZnAeAUAAWf3uhjA8cdMDqL+Di4tyGC+ur+DB41L7TruxpAYwa3SzRl0JpXAtq9hhBCUqLAgpCFrQYTS9nrAGy1WdYINiqh1XAYfQl2AbhpFtNIpmN9wIEr1zCILg/cisQA8J4YcNFKYOUN2jI+HxBsBw6/IAFQrr322kFVVf1/+Zd/GSksLOzdtm1b7v33358LAJwDwWAQn/nMJ9z79r3gBjCSVjpifBQ85MYlFS50vQEEAgrfcGYE/+/3EkYGRrF4lYQv3OdmG75awNvqRwHE+Ytbo7h0g4ctXQX+u4cUjIRVvN8hApAAKNi7M8qPPM8Q7h5B3oUCKr/uYSs+lc2Lr4qj+3AkRYqWwz4QLoMWOG83vdeQYp1zWZ3+mi80LwohZALqY0HIwmZuS74V9kGFWQsmBhKV+ossFDXN+VjzyUXwOHLgViQA4ADA9L94F8C7wEJBoCcIaBl2ABi95ZZbBr1eb/bg4GBRT0/P4I4duyOlpaUAtD4Xfj/Dxo0b89JOi4tpNRhulwAjo7jvkRC6433wXxbF0CmOk51xlK4Alq7LBQC88UwYuR+T4WHAbx6PYt/j3fjo96egNaUCmmoH8cH+XpR8nEN0RBH+YATMA1xxY84Mj1wntIx0YiBBbfwJIWQBoMCCkIWrCuOdJo0MVbraMDEISezsWobxjpfGZ5XQmj4Y7x+1WM9OJSZ3wO3V10/WUdpYp1n/v9FB3bx+olpopdSJnXqbkyyvYmLNz9GE/SaqSvJ97Dqymo9pJcabohnvNcDpWYNvvbwIBWq2zTY0fNI7Y30mmpqaBnt6etScnBxnS0uLr7Ozrf/w4cMyYwyMMfT0cFx55ZVOAOmN1iQJDoABoWN6OgMiHjjszX7kQCG791c+VtvkxZIyB0IhIMshja3nXaYi1AMU+oy0Gd8TCPwhDz/pLmT37faz+xoL2V98zo1QEMjPFpGZ504ntCZQhkpo/QEIIYTMIwosCFm4zBml6bRxNq9TieQZ/BpomWDzPsswPspUskxbg75uYsdor2n9dGpMajCx5DlxWNgKfVvbYd2RvVL/7BCmP0KO0W6/Acm/TzoBVzPM31uUqnDj3w9AFMaboPIoAAbGlgLMr/2dxoaHhoaiwWAQGzZscNfU1LBnmpsjPp8PABCNRuHzleLiwsLx0ZoEmxYrVQ2Slh4OvPOSNqfFD7/sYyNxT+T3j4j8B38R45sujuLd38nwlSasHNFqWFRl4sZrm/MZ4jk4/FuJf//TMt90cZTveSAG3wpAawSVqeYzbZh4jScb3GC6ga+hFhODRPP66QQ0VoFqsuso3YDbblSomRYcGJ8bzPuvTFgu1ahQ0wnSkbCO8Z22I/1jSAiZBxRYELJwmR/g0xn5JoyJnVrtMkDGA9tOGcb7bCRKZ7QqI7OeLANmZNoTNZo+b0Z6AUMFppfZMPaRThC0PcU+EjJNApBX9CKu/uwAgLEaCVa6AgAH/9U2OWfPA7H8vVuj/N3XZOb3p9r/MKB12q6urs4twiKEQuP9tRkDCi++2FRjobdyOv2WebQoAYtRyHzl4B3twMCA1jE7t8DJe4LAs7WDOPX+GaA/jKJLYgAHRGl8/VFRABgQ7pw4AtWImwF+4IkvDuOD/d1AfxgXroyYqmEmj1g1febfhd31NZPA1wstM77dYhljfWP+GLv17QLVdAP3VAF3OmZScDBdmQzSq2yWNb7DISzgIaQJOZ9QYEHIwmV+2E93yFhzO3S7THkNtIdyI7S260Zbe3NTqjJMzhzUYGJQUZ+w/k2YmPFrSJLOCj0N9ab1BYx/byONwHgfEvNyqzExiDKnq05fxly6baTT3BelBhOPeR2AQtM+Eofu3Q77Y1oJ7dhr6fx6sx81P/s7AADXMv7MVw7+65+pePAzkXuuEkZ/ckue3H/kjTB43rDNNsccPHgwBgChEMfatWulq68ucXZ0HJswnGtBQYE0YSVVAVbdLOELdbnYfjQfW14tZhd+woloD/DLf5ShBysw6kxWfAGoqpIQOMTYpZ/IAg8BChurbcgpXaYFCNdtcmN9IAub/0urISmQtHSsrAJQJWHTb9zYcE8ueAjITt4CbBpSBRYzDXy327xvtZzVtbALqQPVZIF7qoA7HTMpOJiuTAbpQPJ7B6CdowU/lDQh5wMKLAhZ+GYy2o15ONpkGYc6aBnnzoT3Vpv+n/jwNz/Iq6GNc29e3wgAjEyQMaKPnRbYj5VvrBeG9dwFbZiYfi+m1hzKi4nfrxpaYGU+fo3Qjod538kyM3cDaMGdT2YhW3ED0ArtGQBfOfhj35Dx+x8OvPDkDmHn0097/vWJZi2jvvrzIuc9SRNbXV0ty7KsAFEwxpCTkyMND4cm1AQ4HA4RRrMjUWt9xVb/tchuuiuXDfdnQ4iJvP0X4D/+fAyRD4zqDpXv+V6E+VeAfXtPLrt+dzF4bwFv3wMwH/BXm1zQO5IP/eyfBjnnYHdud7I77i+EU/ECcKPha31AD9j/3p3Ffrq7mPnKfPhDg4RQD9i1NQKwzHaG8GkIY/wcJV7fMw18vRg/v0afDnMwW4iJwepUA2/z78UqcAdSB9zpmE7BgaAva067sV46taeZDNINxm/cXJhgTgs1iSJkAaDhZgkhnbAfbcpox25kTir094y/AS3DkqwEdSvGM1gVSZZNlmFZneQzs05Mr3+FuQ9KPZJ/n7sx3v7crkQ2DOP7+EtMIzRFwXyrwB/7hlz8QdPQa+/szyovX+O+8cYblSNdXdocD4u8AjpPIVVnC1VVVUBrDhWLxQQ9kLAkjQ5ClRXwf/sf2hC0gydUDByLAxjFWE2FrqWun7f8VEHJx9xwF0joeUfG4IkhfmCPG948Bq1TuIw3d0TR+YzIiz+ZjUg3MDQEACLefjvKA+vCWFWVAwck9HYoOHp4kBdfJeKya3KBAdekfc5MGOPnrgzjmfXEwDfxnLboL6NWwwh8jeXMGWOrazwM7VpIFQwD1sNE1+tpbTYtbzVAQ7KAO11W+6/Tt23MVVFrs/+psgrSE4+dcTzNtRo1Fmk0dGLyPcAINI5ivHmYFxMLAwghc4wCC0IWvpk0UTCva/fATdWswlyyaAQWU2mm1WlaJ1mzkuk09zLXgiQOq2vOZKazHUOqEtl0vo/2XWp2Occ6a3OA+UvB9z+n4oOm6OuHDnkuLa9wNTc347XXXhsAoM1sPRBMGVQAEERRFD0eHz766CP1+PHjwtVXXy0C2nwWPh/Q19enQO/PIAmA5BCB4wcsJs6z0jOIEz1GpwitaVNnyzCAQZj7SHR3R9D9QgRa7be5o20U7Y3RCe93Hwa6D0eR2T4Wicy1FzMNfM3Xo5FRDiO9zLcX49disnVakLoz+0xnFp9OwcFMZDpIB+yPnxHAG+ePAgtC5hkFFoQsXEbmdSYlceYMs936qbZrzpybS4YN25G8DbddepLtx04tZn9ejnSOszm4sgpgtP+7S8dHZmIABwOefzT2eGCz49KKChcAPPzwwzLMA8z2DwDO5K1UDx065BBFUfD7GerrX1COHj2Km2++GaFQCEwPSnp7e2W79Tdv/hdPUZEjhxX5RadjRIhwjmwAfX196ne/+93TFRU1jtrv3eL75+89zPfv3ztgWlWx2t6/PdHgw9AQvvnNu0IJyyQub7n+DFld45kIfI1Mq3GtGcGFca1v1dezyvgnBqozyezONKM/nYKDmch0kI4UaaJAgpAFhAILQhYuc+a1ClMfctZcagrYP+TPhgez0cE0MfNhNGcBtONlBB6zLZ2aIMAlu4zbLAMD/2MrytcUqH+75ftuzoFQKIimpqZo0j1pkcKEUm2Px+MuLS1FMBjE9u3b47fffruTc65/ps3A/e6778bsNhmPDzglCc6XGl7E8ePHFVWNCIwxKEqWPnt2G+RT14rh8NG0+kM0PVM/GgqFsgFkuplTKubzYDdQwUwC37thPxqZeZtbMbFUPb3rIz0znVF8OgUHmZKJID3d7RBCFgAKLAhZuFow3k68FlMPLBJHUrJ7OKfqk2BVImx++Fu1oc60XdAyH2FomTi7Y5GJDpzpZK7SqQkC4h4Jkl5IzxjQeVi+9eZrRTAmMAAtLe0AMDJpvbFO3qVAV/ukjy+//HLGOccVV1wxvGTJEvG6664TOzo6AAA+XylaW/8IJMngezxcBXxobm4eAmCukRAAqLlXXpnFAXDOFQCoqqqSVl23sVAdHBBdrpgaibiHA4FvDgDAAzuf9r7f9lshFArFAIygqkr6zsWrCoaGRmM+X57jggsWO59//qXo3r1PD0xKyMyZg8iZlrRb6YTWibkW2u/J7rdijB5VbfP5fFromfJMBmGEkHlGgQUhC1cjxjsjG0NG2rWVTlSBiSWqyTL+qUr4rTJvnQmfz2ZgUWFKQx2SB1jTHY/f/H3MHXitlJn2kzwzK8RFY/A9DgaII+plS5eP1T50dXUBRh8GE+b3Ax4/ePMTQNP3RwCM1T6oquppb293rF+/fnhAFJUfbNqUFQwGtfX0dlAHDhyIQeuYbakHAIuGsGXLFub1fsx5QXk5Dr36RuyhhwIDALDKe5XAeQ/y8/Nx7NgxNDY2KkeOHFFisZhQXFyML37xlpwNGzY49+3bF/qPf39Kvu22a3N8Ph/a29sFACgpkdyhENzNzc8BAA63tqY3C/jUmTtIm89FpgPfOv1ljBSV2EHZSEslJtcMzvf8CtMpOMiUzAXphJCzAg03S8jCZg4kapFek45KjI80A2gZnVSZcbthUysxnnkz2kMn/l2D5MFJBcY79qYaj95u/XTsQvKMTLJMi7lGpwrJh8U1T1Y2hY61HMgBcpAz9k40GlWQ2O8g/yIRnIM3/IOKptoBYDAEU/Cxbds29ZprruGFhYXKjvvv94RCIRjNoEpLS9Hc3IpTp04NJkuJNv0ew8mTJ4VXX93jfm53nfuVV36aA72wKZw/oAKALMtGEKSK4uKRNWvWKBdccIEaCkVRUVHhBuDYv3/vQH+/U9bTIKCxUWXMj3373lRbW1t7WltbTw4CaXYan5IKTDxP5uAhMfDNFKMj9laMDzlrNQmlOchJNet9A8Z/H7MxUd10Cg5mIjFITyb9IJ0QclagwIKQha0RE9tu12J8BlqrcfuNWYaNz4whMVPZBS1oMW+zFhMDlMSRWczBSjOsx6KvxfhwlonrpMucUTGapJgZswqnmiDLHFgkZngSR+5pwOTjUQXtu5gzYsm/j+pI6Kycgw+7u+OJS034X/chmT9ym4y253sADE1cNCDW19eLVVVVzvvuu4/19/cLY0GFz4dgMIimpmeHkUY/B4/Hg6ee+nW0ubn5ZFNT86mOjuApGAHMhwDAwE+eVADgx7ue8d/zNxvzTr7/vuNPra1qJBIxvpcEAKWlpaqRDkN//0kZWq3JbIwCZfS5MRhDtxoyEfjWmt63yyAnzm5vft/Yv1XthsE8qpl5nUyaTsGBkZ7pmIMgnRCyUFFgQcjCl9inwGgW1YvxjI8K7SFtfoiHoU0Clqrzp5GZqE3Y5vaEZRIz0fWYPEHV0YQ0mbdRh+llHswZFS+075n4va0yjsmagGw3rWuox+QhRs3HI7Hz+FakOrZxjAURjHMg9xKp+c9/juvbw5IlSwQk3ocf/XI/IqfPQG/+FAgExO/88Ie+TZu+U1RT01d87733FqxevdoZDAbHaip8Ph84gJ07d8oA+pKmCUA0ygTGGMrKCo3vZtScqAAQ8eYJjDEMiqICAJdc5He1t7fjtYMHQ++dONFbVLTM2JQKACMOh8BMQ+Tqk/alSsZ0VGL8OjPOr91wrjMNfM0BQwOsg4MaTLzGzde3eVu10K418/6NgNhqf5k2nYIDc2CRqtYlcb3MB+mEkLMCBRaEnB3uhtZWPN1SRGOW33RKQBNrRRIZM2hbMc+snWof6fYPsZJOp9jEfSRmIq2OhTljYwRi6QQ/iaMAWVN7xzpmc86BtTcIe1/+UH36oW0RALjhhhsE6KX+JhOaR7311luCe7TP7fO5nSUlBUI0GkU0qg0kxaA1fwKARx99VDl9+nQv0hjS1ePxqJxzjI6OJu5b2+exN2XOOW797GezAQiP7dgxtKK8HDt27PAHAnWLu7reEX0+H6CNAqV/PwD66FWcAyOSZLntNCQGp+aXESCYJc4Yb5hp4NuJiZnd7ZicHnOw0IiJ11jiHA41Cfs3r5tsromZmm7BATB+vykzrZvOBJSZD9IJIWcF6rxNyNnDmOirBtbNG9pMy0z1IW082GsxMaOUanIxQMvYVelpSizVNTJrM23m0AJt5t0qi32Y5xMwmp0kDrVrbKMaE0uuEzNJRnBhNJ8x1wAZGc16pBvgLSoaZtyZx3kIYB4wcPCb7mRf+ebXzlx+9Rr3qus2Oj/1qU+5W1tbbTtaa8arAzjnYIzB5/OBMYaOjg7s3r07NjQ0FAaQ2MzK0oMP1kYArwiELZd/u7FxdFPj6/0lJZIHgLR3796BvXsPKZde6s167733ZABRr7fMDT2Q+IevfSkMIFtfXdm69ZsDZ86cEfXPZ2tCvE5oAXeya+smjM+snYxd4LsV2jWSqp+C3ezY1WnsvxNTKzSYqkZo6bNrjmX8Lqy0YfJ3r0Tq2gXjd9RgsX6i9IJ0QshZgQILQs4+xkM9nb4TU93udJsjGAHIVEtd70b636NNfyXbRxhah1o76QRKwPSORScSZ1EO3Bjn9704ypjPxTkH50Gwqz8r8eA9+ddc//kzf3r5+UW/+MUvcpcuXZq0szWg9YkAtGZPANDREcSbbzaobW1tESTOiJ2aAoT7ky/SHTlxApHx/58Zeu+9M2N9PsLhTnM/jlGYRqE6c+ZMQt+QjNoK7Tyne35mEviaA02rYN6oFUl2TRn7r0xY3whU5yJTPd2CAyMQN6d7Kk2iMhekE0LOCkLqRQgh56AyaM0yACoxnGWXu1jdf/p56N2x+SmYrxz8+R8NYf9Dg48HNnufanh59LW337bMjFdVVUkXXXRRMecA5z0IBoPo7OyMHz16dBhAFKahaK3cccdXxgKOn//8Kbrnnx/o900ImRdUY0EIIbPq7VH+4gNRdvP3PJy3Axzg/F2w27bk8NW3OP/XU/88hPftW0I1NjbK0IZrdUFr6mS8ZquJESGEEDItFFgQQshse+PRMC+/zsUuWSfxYDvAPODBdrBsn5t/ZYcbnftHkOXJQsm6GAIlw5jcAXsEVjN0E0IIIQsIjQpFCCFz4fEv9fCP/qCw0lX6Gx5wcKCnC2zxcjcruTib4VQBll2dN6/pJIQQQqaJAgtCCJkbMnZWn+F/+GWc+crB/P6xPhccHJz3aEvFPXRfJoQQclaiplCEnJ8mj2BE5oKMF7ac4R+05mPd/2SsdBUQ5QDv0WovwABRor4ThBBCzkoUWBBCyNxS8d//0Yf//o8oX1mVjSuvz8LSFWDMD/h8QG42BXxkpqjggBAyLyiwIISQ+TGCtxpH8FajA4CbFyxzYtEyB947nNYkd4QQQshCQ4EFIYTML2342L4Pgb4P5zsthJw37rrr27lLl7LsiGkaSKdzVB0ddamyjPjICEb3x0+MtNXXJ50rhhAyjgILQgghhJx3lDwmeQAR2eZ3XXC5AGj5o6ybUYL19wVGu7r6I42NO6LzkU5CziYUWBBCCCHkvBOToaQTKeTmwrVyZb7rwgsDnh070AcEEueZGVezy4lRlwSvqa9UJBxH/d1U60HOC9S5ixAbd9zxFRqdhxBCzlGCIEKStNGdVRUQBEAQBP3/k2//ggCoqoBYbHRsuUQjYhYUCBBEERC0bb+09GsX8JGhGE4eHcTu/zk89ZQGRHzrVg9evWsUbW0UoJAFjcZLJ4QQQsh5SRQFCIIASRIhCALicRmxWByyLEMQtM9UVYWqAoqiBRcul8sy8AAAASoEUQLio8DwIDA8BN7VDlawyMmWrS3EhWs9U07kpk/7WI6cj7a2qa9LyByjplCEEEIIOf+oCuKjcRgxggogFpfhcDgACBgeHoYkSXC5XFAUBaqqQlFUSJIEh8MBWZattyuIgBxDlqRv9Ym/PcPX3JrHbv9XN770Iy8eXBeDNmiDgPWvSrgyKmGwW0AkW8HKt+MImJparQ84kCVL4By4cK0DxVc6UVapoLFa23lVgwRAQnZERG6xilND8bHPCJkHFFgQQggh5LygQIQq6C9F0YMDFYAAqCrcDq2WwuPxYHR0FPF4HNFoFB6PRw8uAFnWgo94PG7TJEpvV4WxWo0YDrwQ4p+8ewlbXiHwpety0fVGGIGAwDzLFyHKAV8ZAIA7r1BRcaIfbfUcgMA23rWIh94F5wNgm36ZhaWlWbz5WQA4BUDBpzf62MBxB4zOIj4O7m2IoL66fzaPIyF2KLAghBBCyDlLhYi4IEEWHFAFAQK0PhWQBMChtwgXtVoGNTYEQRDAOUdhYSGGh4cRjUbBeRSMGcGFAFmW4XK5MDIyAlFMs1V5jI+Ch9y4pMKFrjeAQEDhG86M4P/9XsLIwCgWr5LwhfvcbMNXC3hb/SiAOH9xaxSXbvCwpavAf/eQgpGwivc7RAASAAV7d0b5kecZwt0jyLtQQOXXPWzFp7J58VVxdB+OpEgRIRlHfSwIIYQQck6KCS4MS1mIi06oRsdsQB+6RgVUGVBlCIoMKPJY3wlBENDbG0ZWVhZyc3PhcEiIRrWmUYAKVVUhiqJtJ25LLqZt3O0SjBRg3yMhdMf74L8siqFTHCc74yhdASxdlwsAeOOZMHI/JsPDgN88HsW+x7vx0e9PQWtKBTTVDuKD/b0o+TiH6Igi/MEImAe44sacGR88QqaBaiwIsfHznz9Fo6aRs555dDO6psl5Y33AgdVrCyEKyfM5HAADGPODd7UDP/vbEIAR4+MzZ84s8fv9wr59+0YqKytD9957b7HX65UAwOPxIBQK4cEHHzwDQButafN/FrLFy7L4np/E8V+PnZ6wL0lwAAwIHVMBqEBAxAO35WfnlblVRRABDh7sAEIhIMshja3nXaYidAoo9KnoDQOmNlYI/CEPBRd5WG6O1g8jFNRe+dkitMJj+6FxCZkFVGNBCCGEkHPH+oADV3+iaEJQwaMAGBhbCjC/9ncamxoaGooGg0Fs2LDBXVNTw55pbo74fD4AQDQahc9XiosLC8dHa8rPs95QVYOkpYcD77ykBSE//LKPjcQ9kd8/IvIf/EWMb7o4ind/J8NXmrByBGAAVGViwUBtcz5DPAeHfyvx739a5psujvI9D8TgWwFojaCoIIHMOaqxIIQQQsi5QsDHP+6HIGqZaqNGonQFeKgL/Ffb5BxnXJHiJ+P9F13vYtf8D4nznmTbGwbAOOeorq7OfeON9yKhUGjsQ8aAwosvduLAAf2dfG2Hp98yj0crYDEKma8cvKMVGBjQOmbnFjh5x9vAs7WDAAYBAEWXFAJcgiiNrz8qCnAxINw5cYzbETeDxw88sW4YQC8A4MKVDOAF+hI0FxOZc1RjQQghhJBzw9dbCiE4tbwN1zL+zFcO/uufqXjwM5F7rhJGf3JLntx/5I0weF7KyeoOHjwYA4BQiGPt2rXS1VeXODs6jk0YzrWgoECasFK0B1h1s4Qv1OVi+9F8bHm1mF34CSeiPcAv/1GGFqwARp3Jii8AVVUSAocYu/QTWeAhQGFjtQ05pcu0AOG6TW6sD2Rh839pNSQFkpaOlVUAqiRs+o0bG+7JBQ8B2dlTPnSEZAIFFoQQQgg5+935ZBayFTeAsZoK+MrBH/uGjN//cOCFJ3cIO59+2vOvTzRrGfXVnxdT1FagurpalmVZAaJgjCEnJ0caHg5NqAlwOBwijGZHS0pFAGCr/1pkN92Vy4b7syHERN7+C/Affz6GyAdGdYfK93wvwvwrwL69J5ddv7sYvLeAt+8BmA/4q00uaCM/Yehn/zTIOQe7c7uT3XF/IZyKF4AbDV/rA3rA/vfuLPbT3cXMV+bDHxokhHrArq0RgGWuzBxYQtJHTaEIIYQQcvbzl5g6OETBfKvAH/uGXPxB09Br7+zPKi9f477xxhuVI11d2hwPi7wCOk8hVWcLVR8qinOOWCwm6IGEtQe+OcRHj+RA0JsyDZ5QMXAsDmAUYzUVupa6ft7yUwUlH3PDXSCh5x0ZgyeG+IE9bnjzGAAnABlv7oii8xmRF38yG5FuYGgIAES8/XaUB9aFsaoqBw5I6O1QcPTwIC++SsRl1+QCA65J+yRkllFgQQghhJCzW80u51hnbQ4wfyn4/udUfNAUff3QIc+l5RWu5uZmvPbaawMwRkoaCKYMKgAIoiiKHo8PH330kXr8+HHh6quvFgGAc8DnA/r6+hQY/Rk+3D2MKWXmewZxoofr/9GaNnW2DEPrczFeOlQs2wAAIABJREFUM9LdHUH3CxFoLU1U02dRtDdGJ7zffRjoPhwF9bEg84ACC0IIIYSc3dyl4yMzMYCDAc8/Gns8sNlxaUWFCwAefvhhGVojKU3/AOBM3iL80KFDDlEUBb+fob7+BeXo0aO4+eabEQqFwPSgpLe3V7Zbf/Pmf/EUFTlyWJFfdDpGhAjnyAbQ19enfve73z1dUVHjqP3eLb5//t7DfP/+vQOmVS2Hif23Jxp8GBrCN795VyhhmcTlaZhZMi8osCCEEELI2c0lu4wsDQMD/2MrytcUqH+75ftuzoFQKIimpqZo0m1okcKEIVo9Ho+7tLQUwWAQ27dvj99+++1Ozrn+GRAMBvHuu+/G7DYZjw84JQnOlxpexPHjxxVVjQiMMShKlj57dhvkU9eK4fDRtPpDND1TPxoKhbIBUDMnsiBRYEEIIYSQs1vcI0HSC+kZAzoPy7fefK0IxgQGoKWlHTBNfDdmrJN3KdDVPunjyy+/nHHOccUVVwwvWbJEvO6668SOjg4AgM9XitbWPwJJMvgeD1cBH5qbm4cAmGskBABq7pVXZnEAnHMFAKqqqqRV120sVAcHRJcrpkYi7uFA4JsDAPDAzqe977f9VgiFQjEAI6iqkr5z8aqCoaHRmM+X57jggsXO559/Kbp379MDkxJCyByhwIIQQgghZzchLhoDXXIwQBxRL1u6fKz2oaurCzD6MJgwvx/w+MGbnwCavj8CYwZtAKqqetrb2x3r168fHhBF5QebNmUFg0FtPb0d1IEDB2LQOmZb6gHAoiFs2bKFeb0fc15QXo5Dr74Re+ihwAAArPJeJXDeg/z8fBw7dgyNjY3KkSNHlFgsJhQXF+OLX7wlZ8OGDc59+/aF/uPfn5Jvu+3aHJ/Ph/b2dgEASkokdygEd3PzcwCAw62tzhkdR0JmiIabJYQQQsg5hAM5QA5yxt6JRqMKEvsd5F8kgnPwhn9Q0VQ7AAyGYAo+tm3bpl5zzTW8sLBQ2XH//Z5QKASjGVRpaSmam1tx6tSpwWQp8QMAGE6ePCm8+uoe93O769yvvPLTHOgFu+H8ARUAZFk2giBVFBePrFmzRrngggvUUCiKiooKNwDH/v17B/r7nbKeBgGNjSpjfuzb96ba2tra09raenIQCE1OBSFzh2osCCGEEHJ2Ux0KoJgmqsvBh93dcUzM50wcJan7kMx/tllG5HQvTDUVmoBYX18vVlVVOa+//nrnhKDC50MwGERT07NpjQDl8Xjw1FO/jgJ9/Rjvw6GPIgXAx8BPnlQA4Me7nvG7+4Ku5371K+XE8ePxZcuWKYIg6P0xEC8tLVUPHjw6Yfv9/SdlJKk1IWQuUWBBCJkPtQC2T3EdIfUihJDzUhxxuLUJ5Rjn4LmXSM1/fn14s5aBF5YsWSJAa6Ux3hzq0S/3638pABAIBMQRl8s7dHJQHBnpcyxffq8AaB20DT6fDxzAzp07ZQB9qZIVjTKBMYayskK1s7PPPEwsACDizRMYYxgURQUALrnI79rzRBNeO3gwBEAuKlq2qKfnIxjrjTgcAjMNkatP2jeVI0XIrKKmUIQQQshklRifL6B3DvfbrO+zeQ73efZTe8c6ZnPOgbU3CHtf/lB9+qFtEQC44YYbBOgzWZtMaB711ltvCe7RPrfP53aWlBQI0WgU0ag2kBSD1vwJAB599FHl9OnTvUhjSFePx6NyzjE6Opq4b22fx96UOee49bOfzQYgPLZjx9CK8nLs2LHDHwjULe7qekf0+XyANgqU/v0A6AUtnAMjkmS5bULmA5UAEkLmA9VYzJE77vjKWAnpz3/+FB3D9O0CUGP6/90A6udgv83QgpoWADfNwf7ODYFXHYw7F3EeApgHjPnBO9pk/OJrZ/74+m98q67b6Fy3bt1ga2urbZ+IqqoqaeXKlcXG/znnYIzB4/GAMYaOjg7s3r07NjQ0FAYQTzNlIuDNBcJxABHrRYqzS0okz4kTJ/q07RblXHqpN+u9996TAUS93jJ3ONypQJs0zwUgW/87XlRUlHPmzBkRiRPqETJP6CFDCCHnMAospsUL4Kj+r4Ey+gvdfS/6meR1aX0homClq8BffCCKNx4N/+nl5xd5L1vtWLp06Qm71Y3AwuPR5tozRn7q6AjizTf3qW1tbRFQBp6QpKgpFCGEEDJRFcaDCqOWohJAmcWyZdBqN1TTy6h1mM5ydk2hqqAFO0bTrCrT9o7arG9eR4VWU3ju+ufaAfiWau2W4AEPvQt283c8uHZT3l989rYzrzyxY3j95Zcn7ZDAOUcwGEJHRweamprwk5/8JP7www8OtbW19UCbh4KCCkIIIWSBqcXEDFY6LzINd9zxFdV4zXdaziJG5vwQtADDuAatmu+ZM+6Jr4ppLGcVWFTZrHfU9G/i+nYvc/Ouc8+6e7ys7kwJvvHK2IvVdZXg6y0+XLzRDVzsTrEFN4BcAB4ATlDLDkKmhGosCCGEkHFlGK9FaAQQ1v8FtEy5uXmUuRajGlomdDmATv292ikuZ8f4vBPAan39rbCuQTHbqi+7OiHN5643Hg3zPzfLrLQcQBRgAA+2g2VnufGVHT589f/koKYhH4ETDNZ5oBFozZ2i0IagpYCckCmgwIIQQggZZy7RN5pBGYGFF1rtgSGcsJ4RACyHlqGvnuJyVrwYr9GoB9Cm/10Hrd+HnTZ9GeNvY1mv9eLnkMe/1MM/+oPCSlfpb3jAwYGeLrDFy92s5OJshlMFWHZ13rymk5BzEAUWhJD5UActQzWVFyFzwRxY9EIrsW4wvWcOLNowntGvhNZUymieVIvxTHy6y1kxN5NqS/gs8f9m4SSfnetk7Kw+w//wyzjzlYP5/QCHVnsBDs57tKXiHsoDEZJh9KMihBBC/j979x8fV1Xnj/81vzKZk6TJZNIfFNKtKdJKgaWkFtCixaZo/QissulndUFZdk1ltSqLNVUf32XwoZCga/0BhWQRqvw0WanUH11NEBboaqExWj5AgzRIRqClmUzz60x+zdzvH3dO58zNzGQm0/xo8no+HvPIZObce8+9mSTnfc/7nGPSB22nUoXExv5amClHzZZydUgcJ5FpOTo1Itiz/bh85PNSdgcgyldBiGUQUKvLCcDuYJoT0SnGwIKIiMhUPXGRpOXqER87sRbx4KESieMgMi2n03slKi3vWb+nRAb++LMTuPPqoPzxzUPycAskJIQoA3w+oKiAPaFEpxgDCyIiosTxE81Ino6nGvlqELc+u5kaFN2GxDSkUBblkglZjquCiVrM9YHYp84wXmzuwaPb3sYdV/TK735Myh9Uj+DF5zNd5I6IMuSc6QoQERHNAvrYCmu6kv56JeJBSGPsayWSpzPVwwwMMi2XSj3McR4VMKfAVdrAXotsjAEYw4m/ACf+MtN1IZqT2GNBREQUDyz06WWtGrXn1bGym2COndB1xl5Tr2daLpVmmClUanraztj+0g3eJiKadswvJCKaw/SF8R544EH+zZ9bGmAGRG1IXKuCiGhGsMeCiIhodlNT0/YgPsi7EvExIenWsyAimjYMLIiIiGY3fYE+FWQcRHxq3FSpW0RE04qBBRER0eymxmFYB3g3g2MtiGgW4axQREREs1997EFENGuxx4KIiIiIiHLGwIKIiIiIiHLGwIKIiIiIiHLGOc2JktDn/iciIjoVuJYMzXX8gBMRzWFcII+IiKYLU6GIiIiIiChnDCyIiIiIiChnDCyIiIiIiChnDCyIiIiIiChnDCyIiIiIiChnDCyIiIiIiChnDCyIiIiIiChnDCyIiIiIiChnDCyIiIiIiChnDCyIiIiIiChnDCyIiIiIiChnDCyIiIiIiChnDCyIiGim1QIwYo+mSWx/JLZtwykuO12yrZMXQA/i16xyiuplpf+ciIjGYWBBREQzrUZ7Xg2gYqYqcpqohhlcKDWpChIRTScGFkRENJOqMD6QqJ6JipxGrNfHGmhMlXoAttiDiGgcBhZERDSTVCO5E0Br7Hm6O/B6Os4RpA9CsimbTJ22vQEz/chaN/VebYbHy7VOFTCDMQBojH31ptmPfjx1zGTXN5NyqVKhKgG0IPFa1GjfVyTZ3rpNA6YnOCIiIiKiybjuumsN9ZjpuiShjxWog9k4Vg3NZA1la0Pf+miYZNlkmtJsqze40x1Db1SfijoBiY1zL4CDsecHk5RtSHOs2kmUSxZYVCBxvIcemKQLLCZ7/kQ0i7HHgohOJf0OJPO+aSJ6Ck9z7BGKfW/9/FQg3shtBVAKMyWnEeNlUzaZSsQDmy2xbUu1uiUbLB0CsClWdof2utpPrnVS1HVR16pZq1NVirJ6CpPqFaqdRLlU9VE/Q3WtNmHi3odmxK9rZ+w1psARneYYWBAR0UxRDdq22AOIN7StYy/0RvMOxBv5+vPJlE2mDYljCWphBs3pGsuNiDfG65O8n2udgMSB7SqgaLS8rwtpr9fG6qCCn9JJlEtGnZcKDAHzOiS7Brqt2rH1lC4iOo0xsCCimTBR+ki6dAyaGyoRv/NfieQ/a72hrDc627TnIcTveE+mbCoqbacJZgrTRFO6ThQcnIo66ddDpWr1WN7Xj6Ma7BUwz0H1KDYg8XwyLZeMer/N8vpE55RpMEVEpxEGFkRENBMySXuZqYCyGmYDGzDvvu8AsAKZBwBTId0Abb2MnkK2A2Z6krX3oAZm8FCRZTkiorQYWBAR0UzIZAyO3pjWG/WVljLWhm82ZZNR6T1q3ER9bJ+5pOrkWqdMxyxZg49mmIGDSmtSwYMXielZmZazUj0V1p4NBiNE8xADCyKarGQzvOgNkGQzzSi2LB8T5WvT6UVP2VGNWf2h5/WrBnWr9po+NWmyaUqzKZuMStPxIt5grstw21RyrZMKGEJI/zuiBnEnSy+zpl2FsiiXijqvaq2OVWD6ItG8xMCCiIimm373PdmsSPpsR2oQdwiJjWc1xWmy9KBsyiajBwFqOle9oTyZACOXOqlAAUg9i1Sz9rwaZk+CKqtPc6umdG2LbZNpuVQaEQ881LiPFsxs2hgRzRAGFkQ0Ezh4e/7SF3jTp5e1sjaUAbN3Y6v2eifMsQHJGrHZlLVqjZVVdQvF9qWmka3C5IKLydZJDz5SNfL1mbVUj5Cqs3X/O2CmeCmZlkumM1ZGD8a2IvtpdImIiIgSZLqOBQOLaTLLF8ijuUtfeZvTyBLNE+yxICIiosnSx1KpnhV9dqo2cGpZonnDOdMVIKJ5yTZxESI6DbQiHkQ0JXk/3fgMIppj2GNBREREk9UMc5yIdYG8NphjLTijG9E8wh4LIiIiykUz2DNBRGBgQUSn1kQzyBAREdEcxVQoIiIiIiLKGQMLIiIiIiLKGQMLIiIiIiLKGQMLIiIiIiLKGQMLIiIiIiLKGQMLIiIiIiLKGVe/pVnthhu+XLRsmSgYHIy/5nKNGCMjeUYkgrHhYYwcGHtzuK2xcfRUH/u66641TvU+iYhofnvggQfZ9qI5ix9umtWu/6K/5F0lEOEJyvX3Y6Srq3ewuXnnREWJ5hU9QGaDhoiIphIXyKNZbTSCaCaRQlER8lavLs476yy/Z+dOnAD80ZSFaxpcGMlzwFsQb2QNhsbQuPWU93oQERERzRccY0GnDSklAMDj8cDj8SQts2QJ8v13iEXAuXkpd1S0tBiFpaWieKlXLLnAfCx990J85emFuP7+/MnVzm/Hl/5UgMpK1+S2JyIiIjq9MbCgWa1gOGzz+cxAorzcB4/Hg46OANrb29HV1XUyyJBSQkqJYFDCYxj2+vpPlSFVj1zUFRVl5ZCvPm/Ix26NyMe+HZFd7RAli1xi+aWlOOvS5FFLOts+4BOFkWK0tWW/LREREdEcwFQomtVCoc6Rl59+wRMaHjYKAAwNO+0P/vrXg5WVlWMrV650NzQ0RNetW1fw3ve+F8FgMBZcBFFeXo7t27eXfetb3zoGYPwgbE8ZcOjpCA7tOQ4AOHCvU6776AJxzffc+MS3vLhj/SiAMQA2bHjSgfPDDvQfs2GwIIrVL43Br6VabfA7kR9xQErgrEudWHy+CxVVUTRviQAAqpscABwoGLSjaLGBowNjJ98jIiIimiMYWNDsU9PgQoHXieKFjuYXX3Gg6ykDYaeBYqeB3hMGgIG2trborl27PB/60IdGPvnJT779wgsvLPjMZz6TD5gpU4FAAKtWrbJv3PjR0iee2BMcfxAJFC4G4kHHKJ7bE5Tv2XqGWFFpk8vWF6Hr2RD8fpvwrFiEsAR8FeaWrvMMVL7Zi7ZGCcAmNt+wSAYPQ8o+iG0/ycey8nzZ8igAHAUQxQc2+0TfG06owSI+CeltGkTjlt6pvIxERERE04mBBc0OG/xOnL9OwJ7ngTvqEABk9yjwjtXA6vebZXw+INAOHNrjABC9+OKL+w3DKPvIRz4yWFpa2nPrrbcW3XLLLUUAICUQCARwxRWXuJ94Yo8bwHBG9RiVI5BBN95ZmYeuZwG/Pyo3Hh/G/3vGgeG+ESxZ48BVN7vFxk+WyLbGEQBj8uc7wjhno0csWwP5Pz+IYjhk4NUOOwAHgCj27QrLFx4TCB0bxoKzbKj6rEesfG+BXHzBGI4dGpygRkRERESnBY6xoJlX01KMde9ZBI+zEO6oAwAkAIjYM9kFyC6IYADoDgBmgx0ARq6++up+r9db0N/fv7C7u7t/587dg+Xl5QDMMRdlZQKbN29ekHFd8oTZg+HOs0FNx/zEXUEcGzuBsneFMXBU4q3OMZSvBJatLwIAPPtwCEV/E4FHAL+6N4wn7j2G1585CjOVCthb24/XDvRg6bsl7M4wQq8NQ3iA8y4vzPHKEREREc0a7LGgmbPB78TaS0thN9J/DiViQcZJJ8dM7N27t7+7u7uwrKzM1dra6quqqgoeOnQo3+v1OgCgu1vi/PPPd+3bt88FYOLpZB02JyCA4F8N8zh+O27/WHHBggq3EbXZAQkZ6ACCQSDf6Ti5nXe5geBRoNRnoCeUUEf4f78AJe/wiKJCcxxGMGA+igvsMIP71FPjEhEREZ0m2GNBM2OD34kLL1kIuy0eVMgwAAEhlgGizHyewa4GBgbCgUAAGzdudNfU1IiHW1oGfT4fACAcDsPnK8fZpaXx2ZqKU3RgVDc5zPpI4OVfmkHIbf/oE8NjnsFn7rLLb/7tqNx2dhiH/ycCX7ll40Ez+DGiiQuQ1bYUC4wV4tBvHfIbH4jIbWeH5eO3j8K3EjCToLhgGREREc0JDCxoJtjw7neXIc9uNqrN5SkgylcCkJD/dWuk8PHbR4v37QjLw09FRFnZRPsbAsxB21u2bClaiEUIBuPjtYUASs8+W1tfohiAAN5+UZ8tyoYlKBW+VZAd7UBfnzkwu6jEJbsDwKO1/Tj66nGgN4SF7xwFJGB3xLcfsdsAAYQ6E2egGnYLoAy47+NDeO3AMaA3hLNWD5486WQzVhHNTVUAmmB+5tWjBUB1Dvus0PZVk2H5WgANORwzV7OhDskcgXkdM62XF0AP4te/corqZVWrHZOIZhkGFjT9PttaCpvL/OxJs+EvfKsgf/FjA3dcMXjjBbaR7169INL7wrMhyAVDE+3u+eefHwWAYFDi0ksvdVx44VJXR8dfE6ZzLSkpcSRsFO4G1lzpwFX1Rag7UoztTy4WZ13iQrgb+MlXI4gFKydzsFZeBVRXO+A/KMQ5l+RDBoGoONnbUFi+3Pwnd9k2Nzb483HT/5o9JCUOsx6rqwFUO7DtV25svLEIMggUFGR96YhOU9VIHkSoYKN2murRAqBumo41m+twKlTDDC6UTAI7IprjGFjQ9Lr+/nwURN0A4mMnfKsg7/lcBM/c1rfn/p22XQ895PnefS1mQ33th+1Sdqfd5ZYtWyKRSCQKhCGEQGFhoWNoKJhwN8vpdNqh0o7OKLcDgFj7D3ax6YYiMdRbANuoXbY/AvntD49i8DXV3WHIx78+KMpWQnz58SLxvt2LIXtKZPvjgPABf7ctD7GB5AM//vd+KSXE9XUucd0tpXBFvQDcaPr0CaAb4t9254sf7l4sfBU+/L7JgWA3xMU1NmB56hXCieaOie6C1yGxkUqznzVItAYaU6Ue5t9yppESzUIMLGh6lS3VBjiEzZ6Kez4XWfza3oGXXz6Q/3fXf1Fcfvnl0Re6usw1HhZ5bfGsodQMwzAAMx1qdHTUFgskkrv98wOy8dMj8vt/Pyzr/s+w/M5VQ7jjigE8WtuDgaPHoWZzAoDW+l7pX98v/7+1I/I7V0Vw9/UjeHRbj9z58UE8cY8BwEyx+t3OMH50Ta/83rVj8rb3juFH/zoGwI6XXhqR/vUheef1o/Ke66PygS1jeHRbSP7oX3vlvu1RoI+BBc11FYg3OBsRbxTaYDYSlSrtuUp1sfZkHEnxOmLHaEBimpWenmPE6gKYd9dV+pSeTlWL5ClBdUhM4epB8jv01QAOauWOWMqlqkM6mRxbr7+eKnQEyVPNMimTTgXiP6/G2Fdvmv3ox0t2XbIplyoVqhLmz1y/FjXa9xVJtrdu0wAGuEQ54axQNH1qGlwnB2tLQJSVQx74qYHX9oafPnjQc86qyryWlhY89dRTfVAzJfUFrDNCJWOz2+12j8eH119/3XjjjTdsF154oR0w17Pw+YATJ05Eof4R/WX3EE6mOmWiux9vdqvwxkxt6mwdAtAP/Z/bsWODOLZnEGbArv/jC6O9OZzw+rFDwLFDYYz/50g014S055UwG3uqMboj9jgVrOlFVTAbjWsBdE5iH6reTRjfYFZBDBA/l9okdahAvLFaj+xlemwl2fGbAKxA/BrUITEwU2WyoddpB8yfq/VnqzRgfHCQ7LpkWi6ZCpg/az0oqMPEP/eDlu/V8bdOsB0RpcAeC5o+7vL4zEwCkBDAY3eP3uu/yXlOZWUeANx5550RaCOb0ds34W4PHjzotNvttrIygT179kSPHDkCcy0Lc/wGAPT09ERSbX/TTd/x3Hbb9xd+9z8fXnzX/fcvueOuu5bcddddS775zW8uBmCrrKxxNf3ylwsvvnizdVBEPFjRfP++Jt/3v39fGcb/flnLJ92eaI4JId7YrES8V+EgzAZuRYrtJnOcTTB7QrbEXvMi3oi2Id7QVD0n1kZwJ8xGuA1Ac6y+qhG9JfZ6KeJBh+oR0Y/TqpVTx6uNlcmkDkqmx9bp10AP2NR+1MBxVc/SCeqQimqAN8eO2azVqSpFWT2FqTX2Wu0kyqWqjwoq1LXahIl7H5ox/meVy2QCRPMeeyxo+uRF8tRHTkBA/mE/Vq0rMf55+zfcUgLBYAB79+4Np92HGSkk5NZ6PB53eXk5AoEA6urqxq655hqXlDL2nrkC9+HDh1OuYTE21udyOOD6ZdPP8cYbb0QNY9AmhEA0mh9bPbsNkaMX20OhIxmlLe19uHEkGAwWAMhDVj0j80q2AdUOTO6OL80OWzE+VUbd5a6D+bPNteeiHvGGaHPsUY3xDd10mhFvYLbFvqq/N9UwG7jJxhJUaa+p81ABVQXiDfBstGV4bF0j4tegHsl7cZQdWp12ZLBvpRrxYFAFFI3asaq1OiB2DPWzD8E8r01J9ptpuWTUeamfO2J1SHYNdKpnQv2sONaHKEcMLGj6jHkccMTWghMC6DwU+eiVF9shhE0AaG1tB4DhcdudHORdDnS1j3v73HPPFVJKnHfeeUNnnHGG/bLLLrN3dHQAAHy+cuzf/wcgTQPf45EG4ENLS8sAAL2LxAbAKDr//HwJQEoZBYDq6mrHmss2lxr9ffa8vFFjcNA95Pd/vg8Abt/1kPfVtt/agsHgKIBhVFc7vnL2mpKBgZFRn2+B88wzl7gee+yX4X37Hpq4K4ZobtmC+B1tNbZBqYXZuMsleLSmvbQhsRE8mX0AyVOcrPRjtGnPcw2GMzm2bqLgRW806/UMwTz3TKaM1YPDZClU1UgMWhoR75nSz6Ux9mjLslwyqt7WMhOlQmUb7BHRBJgKRdPHNnby8yYhAPuw8a5ly072PnR1dQFqDINGlJWZg7xb7gPu++IwtBW0DcPwtLe3O88444yhPrs9um3btrxAIGBuF8uDeu6550YBjKSqVjeAcDiI7du3i9tuu9P3o8dafdu2+Rcgdld9jfcCm5TdKC4uBgA0NzdHf7zrjuh99/3A2LNnD3y+cOHGjRt9APCzHz0YOeec8vxNmza5ELvbuHSpw+3zobCl5af5u3ff5Xh230Ou5DUhmvPaYDa2VbrRDmSXgnKq0qYyVY14I7cVZn318QrJnKo73pM59lRLN0BbL6OPldgBM6i0Blk1MMdFVGRZjohmMQYWNEMkUAgUovDkK+FwOAo1aFspfocdUkI2fdHA3to+oD8ILfi49dZbjYsuukiWlpZGd95yiycYDEKlQZWXl6OlZT+OHj3an64m5vJ7Am+99ZbtyScfd/90d737N7/5YSFiPXqh4j4DACKRiAqCDLt9yfC6deuiZ555phEMhlFZWekG4DxwYF9fb68rEquDDc3NhhBleOKJ3xn79+/v3r9//1v9QHB8LeYdW5YPpkGdvvRZjayDc1sRv2s8UYN8ovetd9tVQzTdne6JqBQbNXahHmbD3loXvbGvN4DV+h2TWeMh02NnQ6+nfr28yKzhnul5WIOPZpiBgxrPoH6fvUhMz8q0nJX6Gaf6DBDRNGFgQdPHcCYGDSjEX44dG7OWSvju2MGIvOtjEbQ91g1gILGo397Y2Givrq523XzzzaK3t9d2Mqjw+RAIBLB376MZzQDl8Xjw4IO/CLe0tLy1d2/L0Y6OwFGoAOYvACAg33orCgDfbni47MZPbV7w1quvOv+0f78xODiozssBAOXl5Yaqh9Lb+1YEZq8JB2vTfKPn2+vTwaoB3JVJyqlgQ8/7n2gtjFrEG58q3SrVfjNtnOvlVT2T5eHrAZL+vqpTg7Z9pnXI9NjZsP4svEmep6MChhDS3wBQKW+VGD91sEptW3sGAAAgAElEQVS7gvZ9puVSUedVrdWxCtO38CIRxTCwoOkzFl8fQkgJFL3T0fLnP48h1tg+44wzbLB+Ju/+x14Mvn0csfQnv99v/8ptt/m2bfvKwpqaE4u/8IUvlKxdu9YVCARO9lT4fD5IALt27YoAODFRtcJhYRNCoKKiVP1jUz0nBgAMehfYhBDot9ujAPDOd5Tltbe346nnnw++8uabPQsXLle7MgBg2Om0CW2K3NiifVlerDnPyPLBBsLpSw2iTafTUkafZagH5mdADepNJYT4mgQt2mv6jEd62lUmnyu9Ia7Wp9C3UY1xfXxIlVZnFRA0I35XPdM6ZHrsbOj1tF7biahAAUg9i1Sz9rwa5jmrsnrPlQoS2xC/NpmUS6URidMDq8/ATKaNEc1LDCxo+hg9JwdmSymBS99v2/frvxgP/eDWQQB4//vfb0Psrr8mIT3qxRdftLlHTrh9Prdr6dISWzgcRjhsTiQlgJPTzN59993Rt99+uwfW1KokPB6PIaXEyMiI9djmMf/6u4iUEh/94AcLANju2blzYOWqVdi5c2eZ31+/pKvrZbvP5wPMWaBi5wcgNsZCSmDY4Ui67zlKX3DM+pjorjPNTSp/vtXyeij2nnWtia1IbLy2wkwHShdY1CfZxrrfeowftJxOa6zeqlwoVjc185M+G1R9rKx1/+rcs61DNsfOxg4krtPQGTvORI1wPfhI1chvQ/zcVG+TqrN1/zuQOOtTpuWS6YyV0T9f1s8QEU0D28RFiE4R/5NOIV2LpAwCwgMhyiA72iJ45NPH//D0r3xrLtvsWr9+ff/+/ftTjomorq52rF69erH6XkoJIQQ8Hg+EEOjo6MDu3btHBwYGQtBX0E7PDniLgNAYgMHkRRYXLF3q8Lz55psnzP0uLDznHG/+K6+8EgEQ9nor3KFQZxTmonl5AApiz8cWLlxYePz4cTusC+rNXRUwV8xNphHmP3xONztNrrvu2pPX+oEHHuTffJpPahC/maGvAUJEU4TTzdL08V8+Jm/++YgQvjwpJaQMQFz4QYcM3Fh80fs+fPxPv35s0SOPPFK0bNmytIOtAXNMBGCmPQFAR0cAv/tdk9HW1jaI7BvwUSDUm77IscE339SDjuMDr7xy/OSYj1CoUx/HMQJtFqrjx49bxoYQeFODiE4dfdXuLTB7VPTZqdrAoIJoWjCwoOn1H7V9qP/vMuAwID2QwcMQV37FI0edkb/94MeO3+u/ybvh3HMLn3rppZSNcSklurslpOxGIBBAZ2fn2JEjR4YAhKFNRUszphMMHIho+rQiHkQkW1sj3fgMIjqF+M+fpt/6G73iyq97ZCC+2J0oXwXZ9cowfv0fA3j1zwBeHb9QXpwbZrrRmPaYDylGRFljKhTNE2p1cn3KWTUonGMtiKYJeyxo+j17d0iuuixPvHO9QwbaAeGBDLRDFPjc8tqdbnQeGEa+Jx9L14/Cv3QI4wdgDyPZCt1ERDRfNYM9E0QzjrNC0cy49xPd8vXfR0X5mtgLHkhIoLsLYskKt1h6doHA0RIsv3DBjNaTiIiIiDLCwIJmSgS7thyXv//JmPCtgigrAyQAAUiY4ycAAGMefkaJiIiITgNstNFMimDP9uPykc9L2R2AKF8FIZZBQK0uJwC7g2MniIiIiE4DHGNBM83AH392An/8WViuri7A+e/Lx7KVEKIM8PmAogIONiUiIiI6DTCwoNliGC82D+PFZicAtyxZ7sKi5U68cijTRe6IiIiIaAbxbjBRCvo0nURERKcCp32muYwfbiKiOYzrWBAR0XTh4G0iIiIiIsoZAwsiIiIiIsoZAwsiIiIiIsoZAwsiIiIiIsoZAwsiIiIiIsoZAwsiIiIiIsoZAwsiIiIiIsoZAwsiIiIiIsoZAwsiIiIiIsoZAwsiIiIiIsoZAwsiIpoutQAM7VFred9red84BcfR1QBoAVCRQdlcj3U6qEG87hUTlFX0822aonolk+ozQ0SziHOmK0BERPNWpeX7qik8Vg2Ahinc/3xRoz2vhhmQdM5QXYholmGPBRERzZRqmL0UijXQmA71AGyxB6VXhfE9G9XTdGz1M6qfpuMR0SQwsCAiopnQFvuq91JUWd7TpUtvmigVqRaJvRVHYo9U+1WvHYHZcD6CzFNx6rRtrRrSvKerAnAQiSlhTUidwlUJM8VLfd+AxIANGZaZiAoiOgG0xp7XpChbZTmeOqY1MMm0XKrrr1+HgzDPU/28GlJsr2+jfsZEREQ0i6kGX8tMV2Q+u+66aw31mOm6ILFBV6d9BRLHV9Rpz5Ntq0sWWFjLWsd26I37dIFFT5Lt9Don275S+96a2qX2ly440bdPVedU52RtnCsVac4l0zEWXm0fdTAb42pba8O8YoJz8GZZDtrr+rWrS7Jdj1bPZIHFZM+fiDLAHgsimiohy1cinbXHQu+tONWfmXoAW7XvV8QeE/ECaEY8DUfdpa9F6oZoG+JjDvTAQk/7akVqquHcph13R+y1ihTHVXUs1Y6tN/ZrtWNviZVdi+yus17/5thDbW/ttVDHDsG8zjYAm7RzqMmyXDJexK9VK8xzVz+jdD0xodgx9Ouq14WIcsDAgohOJS/MO421iDdwOmHehW0AZ3ShONW4roT5uam2vD5bbE3xPF1DtDH2VW8Y64FTslQvRTX8N8H8falDYg9JujqGtGPrjWt1bBUQqHpkM15BnYtef3WsZGMvVB1U6lErUo+TyLScTg/adiAe5GxF+oCpEfHPGMdrEJ1iDCyI6FSqgdnAqIOZ76xeOxj7mu4OJM0vIST2WqQbXzFTOpHYSLV+n4pqvHthnpceODUn3SKuAubvSw/M36NMgvGJ6qQa/dZrm+lsTpWID6zXU7X0uumBlrU3Qx93UjuJcsnogYx+XiGkPy/2oBJNIQYWRHQq1cNMsdiB+D93L8y7hDsQTz+ZKD882YPmHnXnuA6ZpQklk+0A5OmgD25WQZOqZ2PSLeKaEG/E74B5B35r6uLTIpM0IT0Q6IT5u74DiY1+ddOhLstyRHSaYGBBRKdaG8yGUQXijYVqzK470TQ7qM+Efkc92zvKUxlYVFj2783ieKpnogaJvRXpzq8CiUFFPcxAJNdzVNfZOp1vpgOWM+lp1HtlAPM81Y0GG8wUL/3vQbblrPReCf28vOBAbKIZw8CCiE61BpgNgk6YeeL1MP/Zt2B23l2mmWPtnci0t0I1dKuQeXqd3qDP5nPYpJXXV5qeKKVJBRHZjB/R66inHuWaQqiOW43Ea5dJmpU+aHsH4uMf1KNUK6v23YR4SpNq5OvnHsqyXDJ6Ob3HazLT6BLRKcLAgohOta0w/+lvgdkw2BH7fhPiDQV9UbJMHzT36OMsgPS9WnpDXq0Hkc1UxvodbjWGYSIhmA1wNX2pGgdSj4nHJ4QwvpE8UTCib6Omcz2IxDvwk2k0NyL+u6dfu0z2pQc1ydK49PNSg7jrY69XIL6mRA/iwVK99jWTcsmEtPf1n1ElOI6CaMYwsCCiqbAJiY3ETZh9s/3Q7NCa4rmV6gHTG/Q7kDhlaDptlrKZND7V1KT6Z3lrFsdstjzP5Jhbkmy3QtvWujZGJjphphrp11eNe0qnAokzSqWqv15flfa4CeMDEXXDQZ+ZKpNyqVh//tYbGERERDQPcPD2NJllC+SdLvSVt3NRhdSLyNHUUb0fHPxNNM3YY0FERDQ1VMM2kzQoyo6+avdB7XU15TXACSOIpp1zpitAREQ0x+iDkQEuxDYVOhGfgU6trWF9n+mXRNOMPRZENBM4eJvmMn0cSD0YWEwVNeucVT041oJoRvCfNRHRHKaPrXjggQf5N5+IiKYMeyyIiIiIiChnDCyIiIiIiChnDCyIiIiIiChnDCyIiIiIiChnDCyIiIiIiChnDCyIiIiIiChnDCyIiIiIiChnDCyIiIiIiChnDCyIiIiIiChnDCyIiIiIiChnDCyIiIiIiChnDCyIiIiIiChntpmuANFsd9111xozXQciIppbHnjgQbbBaM7hh5qIaA7TA2M2ZIiIaCoxFYqIiIiIiHLGwIKIiIiIiHLGwIKIiIiIiHLGwIKIiIiIiHLGwIKIiIiIiHLGwIKIiIiIiHLGwIKIiIiIiHLGwIKIiIiIiHLGwIKIiIiIiHLGwIKIiGZaLQAjxeMIgJoJtsnleBOp0cpWTOJYM2kyddevTdMU1SsZdczaaTwmEZ1iDCyIaDochNloODjTFaHTTgWABkxvI3c+04O4apx+wRQRzSAGFkQ01bwAKmPPW2eyInRaq0Zio7cegC32yFYu285lVRgfSFRP07HVz6N+mo5HRFOAgQURTbUq7XnbjNWCThc2y2OH9p4eWFjTmfTvvZZ9NiGeVpVsW6USQIv2XkOSfSkV2n7VvjNthFch3ounpx3pjXq9jpnUK5u6p6Lq34n4TYBkaWjqHPTjqWNaA5NMy6VKhdKvw0GY53lE20+y7fVtsvm5EBER0SxXh9QNPppi1113raEeM12XNCYa85AsaLBu40Xyxmmy15MdrwJADxIbwNZHRQZlJxojUJlm/0e0cunGnVgb1dnUPRWvto86mI1xta21YV4xwTl4sywH7XX9+tUl2a5Hq2eywGKy509EpwB7LIhoqqkeizYAodjziRoB2TbWaG7Te7oqU5QJAWiOPdcbwvrzZqRWi3hDdwvM3pK1iH9mdXWxsp0AViAxhUffT6rjAOY5WXtlKpC8AdwcK1caOyaQeF7Z1D2Vam0fzbGH2t7aa6GOHUL8/Ddp51CTZblkvIhfq1aY526LPU93fUOxY1h7u9hrQTQNGFgQ0VTi+AqaTipwqES8ga4C21bEG+XJqHKqUQ2YjX9rzr8X8UZqo7bPHdr7VUhNNfw3wWw418Ue6WyNfQ3FjqmOk23d01GN/DbEAzl1rGRjL1QdVOpRK1KPk8i0nE6/hjsQD3K2In3A1Ij43xqO1yCaZgwsiGgq6Y2DbO6eEk2Gfpdd3YGv1t5LRzWcreOArMGI3qC3pupY95XqOAdhpvPUIbPeuIl+dzKteyqViN8A0FO19LpZe3703gx1HY5Ytsm0XDL6NdTPK4T058W/M0QziIEFEU0lvXGg91hYB+hO9OCdx/lNT3+aqLGs7rLrs0jpaVLTIV1g0YT4+eyAeQd+a+ri0yKTNCE9EFApYDuQ2OivQGIPTKbliGiOYGBBRFNJNaBC4IxQNDk1SByXMFFgoadD6SlCE93JVp9P6xgOa5Cg72cHkgfCqQKFCiQGFfUwA6FcJzXItO6ppBvroOi9P4B5HephjuWwwUzxUvWYTDkr/eesn5cXHIhNNGsxsCCiqaTnt+s4eJtSSTb7kWp4N6baSKOPEdADi4moz6je01GF8Z+9EBKnYlWNXH0Wp1RjLPSgRE89yqRhn06mdU9GH7SdLFAq1cqqfevT96rz13/HQ1mWS0YvpwbLA5ObRpeIpgkDCyKaKpWINwDYW0G5akZmgYUqq+hrMqTTiHhDtwFmg7gFyRux+ixOak0FldajDx620oMSNZ3rQSTegZ9MozmbulvpQU2y66unkalB3PWx1/Xz70E8WKrXvmZSLpmQ9n4V4lPMVoLjKIhmLQYWRDRV9Lu2nBGKJqsNZmrRliy2aUzxPJ1OmOk6+me1EYlTlup1WovEACaE+JiJdLZYtmuGOQ5BNZbTzSiVSjZ111Ugs3Qxvb7VMM9/E8Zf21Yknl+m5VLZgcRzaI3tj4EF0Sxlm+kKENGc1QSzERJCYjoFTSN9YbwHHniQf/NpLlCpVfWYOHgiomnEHgsimiqpxlcQEU1EX7X7oPa6Pq6FKZZEs4xzpitARHMSx1cQUS46Yf7tUGtsGEne500LolmGPRZENBU4voKIcrUJyQd414NjLYhmJfZYENFU4PoVRJQrNSCe4yiIThPssSCiqcDxFURERPMMeyyIaCpwFigiIqJ5hj0WRERERESUMwYWRERERESUMwYWRERERESUMwYWRERERESUMwYWRERERESUM9tMV4BotrvuumutK74SERHl5IEHHmQbjOYcfqiJiOYwPTBmQ4aIiKYSU6GIiIiIiChnDCyIiIiIiChnDCyIiIiIiChnDCyIiIiIiChnDCyIiIiIiChnDCyIiIiIiChnDCyIiIiIiChnDCyIiIiIiChnDCyIiIiIiChnDCyIKBN1AAztUZumbIVWrmbqq0ZERESzAQMLIppIE8YHEnWx15NRZTsBNE5Vpei0UYv0QanX8r5xio9fo+23YhLb6/WfyyZznfRrk+rvwVTI5AYHEc0ABhZElE4lgOrY80YANsSDherY+7oKxHsp6qe8dnQ6sn5mqmakFnQq6D2S1Zhc4EZEcwgDCyJKR28Etlq+Wt8H2FtBE6uG2UuhWD9DdHqowvhAojpZwSlgiz1484JolmFgQUSZClm+WmXbW2FNf5nocdqkPdxww5eL/H7/ku3b44+vfvWri7/0Jf+im27yl/7rv/oLK2tqXDNdzxnQFvuq91JUWd5LphZADxLTbpL1dFQCaNHKNSAxiNH3lyy9qSbF67lub00HO4LMxx9VATho2b4JiY16ff+ZXINMr1M6KojoRPxmQ6pzqrIcTx3TGphkWi7V3wT9OhyEeZ5HtP0k217f5gimLzgimpOcM10BIjpteC1frdhbERNdIBwewI4C/dU85OUBMP/u5l+Jpdhws3+kq6t3sLl5Z3gm6jkDWmE29ioBNMP8LFVa3rNqwfggojr22BLbD2A2PluQ+PmcDZMHNGB8PSoQb8ynC8JVAGCl0hBXJHnvoOV7deyt2rFzvU5exBvgzTCDQtWDUY34z0Q/nlVNbJu1MG9WZFoulTokBhqprp11G10FzKBtBcy/Y0SUJfZYEFE6+l3kKstX/X2OrdCMRhDNJFIoKkLe6tXF3ptu8pcC/vR/j2saXLj+/nzc1OQ5+ahpON16Paw9FnpvRbJGY61WZgfM9JcV2n70O+212vMtsbITNUang/57oVJ41B3+iXrh1Ptt2rY7Yq9VIPmYhuZYuVLEG8f6XfhTcZ30dLbm2ENtbw1S1LFDMH92NgCbtHOoybJcMl7Er1UrzHNX1zldT0wodgz9uup1IaIsMbAgonTaEL/7qNI81D94dacSmFxvhS3Lx2kZsEgpAQAejwcejydpmSVLkO+/QywCzs1LuaOipcUoLC0VxUu9YskF5mPpuxfiK08vxPX350+udn47vvSnAlRWTleAohrUlUi8692avHjC++rn3wmzQYzYPtTnUQUgqqELmJ/Pmf7cqAZ3NeKBkmrMlk6wrWr4b4ptW4fxd9mtVM9ECPHfRb1xfSquk7rmbYj/DVDHSjb2QtVBpR61IvXvdabldPrNjh2IX/OtSB8wNSL+2ZvpzwnRnMDAgogmsgWJd/MA85+watyxt8KiYDhs8/nMQKK83AePx4OOjgDa29vR1dV1MsiQUkJKiWBQwmMY9vr6T5UhVYpq1BUVZeWQrz5vyMdujcjHvh2RXe0QJYtcYvmlpTjr0uRRSzrbPuAThZFitLVlv+3khJDYazHR+Ao9TUrXiXiDUTWaVWPWuq+ZTmlRDe4KmEGBGkPQgIkHrlfATG3qwfhUn1Qm6nnI9TqpVDb1PNl4B/2Ov7U3Q62Jc8SyTablktEDGf28Qkh/XjPdm0U05zCwIKJM6Gkc1rSByY6tmLODt0OhzpGXn/6f6B/3/ybyp5bfRF747W+N++67c+DPf/7ziaGhoXBDQ8Nge3s7ysvLIYQAAASDQQghsH379jKY13g8Txlw6OkIDjzyNg7c+zbu++fj8qdfGYZHAJ/4lhfxoMSGDU86se1X7ojNgajNDsO6yw1+J/IjDkgJnHWpE5U1LlQ3OU6+X93kQHVTHq6/Px/bfuVOeC83KkioQzwoSNVjMd2yHcCcyfY7YAbh1qC7BmaQkW6K1ibEG/E7YN6B35q6+LTIJE1I/13thJnatAOJjX4VaNVlWY6IZjEGFkSUi1S9FdZZcOZ+o6CmwYWbmjzwP1nYjKq8XV3FxiN/WWrcG1oWffAtEQEw0NbWJr/whS/Y/X7/2KOPPvr2PffcM+Tz+U4GF4FAAKtWrbJv3PjRFCkyEihcDMSv6yie2xOUb71kiPKVwLL1RQAAv98mNq9YJHwVvlGHwIijAMPOQqCyRsR2ZBObb1gE26hdyiDEtp/kiy81LERRZDHU/4UPbPaJtReUieWXlgpfhU+sPnsxapqKT8GV0sflqO9T3TlONosUEE+lAuJ3pNu093TZrK0wFYEFYN6NV2NEShH/XfEi9ToeFUgMKuphBu651jHX65TJQG89zQ0wf771MMdy2GAGWqoekylnpfdK6OflBdfWIJpWDCyIKBfJeiuS3V2sxcQztJx+Nvid2ParBfhC62KUvGOhcJV40T26AO9YXYDNtzjwsa85seUOFz50oxOAAwAuvvji/uuuu664p6en4MUXX+y59dZb++PBhUAgEMAVV1ziBuDOuB6jcgQyCLyz0hyj4fdH5W/qh+XdW8bsQydgG+6DYUQhNn6yBGavhiF/viOM7gBEWTnk//wgKu/9dARP7DJUPbFvV1je86mI/O6HpLzvX8KyqwNixSUFWHxBQcp6ZMbaO5Gut0KNAahC/LOmZlQCzIaoKqP2U43EcRcT9XTpZSczi1S67ZOlClnTc1IFVfrreupRrjNdTfY6qW1UYKMCJf2hB8Rq302IpzSpRr7+Mw9lWS4ZvZzeEzaZaXSJKAcMLIhospL1Vuizs6jZaVTalJ5TD5zug7drWoqx7j2L4HEWwh11AIAEABF7JrsA2QURDADdAUA12IGRq6++ut/r9Rb09/cv7O7u7t+5c/dgeXk5AHPMRVmZwObNmxdkXJc8Ya6b4M5T1wp44q4gjo2dcDoccNptsEdHAb1X49mHQyj6mwg8AvjVvWE8ce8xvP7MUQBjAIC9tf147UAPlr5bwu4MI/TaMIQHOO/ywhyvnD7OAki/fkW99r6ec68a2lsQb3A2as8bYmWt06oq+nSoetlMZbp9GxIDbn1tBvV+c5LtAPNc9CBArc2g34GfTKM5m+tkpQc1ydIe9UBPDeKuR3w6WbWmRA/iP8N67Wsm5ZIJae9XIb7mSSU4joJoWjGwIKLJStZboQcOqlGkNxxP/1WWN/id+NKvF6HESH/nXo575eSiaXv37u3v7u42CgsLXa2trb7OzrbeQ4cORYQQEEKgu1vi/PPPdwHIbLYmh80JCCD411jD1W/H7Ye8BXc9VzriLsGouxhRuwsIBoF8Z3yshHe5gWA3UOpTdYsv7ub//QJ891ipuHl3mbi5uVT87YfcCAaA4gI7cv/f0ZrieTJrkTjTD2A2Xtdatu1M8lojxk88oMpuQmLPwY4UZZPJZvutsdetg4h3ID6dair6Oh2IPV+B+LVIlUaVTjbXSVeBxBmlUjXY9fpWw/z934TxgUgrEs8v03KpWK9/a2x/DCyIplHyAYJEROmpu4qA2XBSjYEaxO/Gqtf1sipX/PS0we/EhZcsRJ49/rdThgHhgxBlkJCAlBCQkBKAgPl6Vztw3z8HAQyrzV577bUSh8MhysvLsXXr1hN7nn3W/u833rggGAwCADweH/6z/paBV3t6+gAA/v8tFZ7SfPn4d8fwv/e8ffL41U0OvKNksfAtg/zmuiH09fXgtj8vFCP9Lnm4BVvQ/oYNBqJOD3558V1nyh/8nxG88lS3uc8/LRLod8rvfXIQoc7ek/usbSkWHk+B7AoAT343gtcOj2DNFU5xw26X/MU3Dfz6trcBRKbwShOdKiq1qh6ZB45ENEnssSCiyUg1E1Syu4NzZfCkDe9+d9nJoCLWIyHKVwKQkP91a6Tw8dtHi/ftCMvDT0VEWdlE+xsCzHUutmzZUrQQi6CCCgAQAig9+2ytx6IYgADeftHQ9mHDEpQK3yrIjnagr08CsImiEpfsDgCP1va7XU7kuVyw2+1mpe2O+PYjdhsggFCnvk9g2C2AMuC+jw/htQPHgN4Qzlo9qHXDJJYnmlkViPe26SuP1yD19LpENAUYWBBRttKtW6GnV6Rbqfv089nWUthc5t9MaTb8hW8V5C9+bOCOKwZvvMA28t2rF0R6X3g2BLlgaKLdPf/886MAEAxKXHrppY4LL1zq6uj4a0IvQElJSeIUr+FuYM2VDlxVX4S6I8XY/uRicdYlLoS7gZ98NYJYsBIb6AGsvAoGbIjYXYg68wEZBKLiZG9LYflyM0C4bJsbG/z5uOl/zfUsShxmPVZXA6h2YNuv3Nh4YxFkECjIdew20SnXicTZrqxjWToxe6Y0JprTGFgQUbbSrVuhD6JUA05V+Vacrv/cr78/HwVRc5amWIoTfKsg7/lcBM/c1rfn/p22XQ895PnefS1mQ33th+1Sdqfd5ZYtWyKRSCQKhCGEQGFhoWNoKJjQE+B0Ou1QKatnlNsBQKz9B7vYdEORGOotgG3ULtsfgfz2h0cx+Jrq7jDk418fFGUrIb78eNFwXjFGbHkwRocA4QP+blseYgPJB3787/1SSojr61ziultK4Yp6AbjR9OkTQDfEv+3OFz/cvVj4Knz4fZMDwW6Ii2tswPLUK4QTzYxNSJ5mWQ+OtSCaNslXeCUiSi6TVbbVQFt9ytn6NOVnv7Kl2gxNYQjfGsh7PhdZ/NregadePpC/atU69+WXXx59oavLHKewyGtD59GTHQepGIZhAGY61OjoqC0WSCR3++cH5MgLhbDFUpn63zTQ99cxACM42VMR01rfK1t/GMXSv3Hj/atgj47B6bBD7vz4ILwLBMxB4RH8bmcYnQ/b5eL3FGDwGDAwAAB2vPRSWPrXh7CmuhBOONDTEcWRQ/1y8QV2vOuiIqAvb9wxiWZWCNkNwCeiKcDAgoiy0YnMJn04vQMJXU2DC3ab+bdSwlz34cBPDby2N/z0wYOec1ZV5rW0tGGe2kgAACAASURBVOCpp57qAxAFAPQFJgwqANjsdrvd4/Hh9ddfN9544w3bhRdeaAcAKQGfDzhx4kQUajzDX3YPIavGfHc/3uyWbscq2JyxoRqdrb0A+qGPkTh2bBDH9gzC7ME2tPfCaG8OJ7x+7BBw7FAYHGNBRERJMLAgIkrHXe45+VwAEgJ47O7Re/03Oc+pNBeku/POOyPQJ5jt7QNc6TNNDx486LTb7bayMoHGxj3RI0eO4Morr0QwGERsIW709PSknHnpppu+41m40FkoFpbZXc5h26CUKABw4sQJ42tf+9rblZU1ztqvX+3b+8jD1k2jyfb3/fuafBgYwOc/f0PQUsZaPun2RDR5N9zw5aJly0TB4GD8NZdrxBgZyTMiEYwND2PkwNibw22NjaMzV0uiiTGwICJKJy+Sp/5UCgjIP+zHqnUlxj9v/4ZbSiAYDGDv3r3htPswI4WEnh6Px+MuLy9HIBBAXV3d2DXXXOOSUsbeAwKBAA4fPpyyETE21udyOOD6ZdPP8cYbb0QNY9AmhEA0mm8H4ADaEDl6sT0SicDpnPhP/d6HG0eCwWABAKY5EU2z6ALh8AB2JMyNkIc8czSTE0D+lViKDTf7R7q6egebm3em/5tDNEMYWBARpTPmccARu0kvBNB5KPLRKy+2QwibANDa2g5o61OcdHKQdznQ1T7u7XPPPVdIKXHeeecNnXHGGfbLLrvM3tHRAQDw+cqxf/8fgDQNfI9HGoAPLS0tAwD6tLdsAIyi88/PT1yjz4bbvn/fQqO/z56XN2oMDrqH/P7P9wHA7bse8r7a9ltbMBgcBTCM6mrHV85eUzIwMDLq8y1wnnnmEtdjj/0yvG/fQ30golNuNIJoJpFCURHyVq8uzjvrLL9n506cAPypexBrGlwYyXPAWxC/qTEYGkPjVvZ60JRhYEFElI5tzK4m0JMQgH3YeNeyFSf/UXd1dQFJFosTZWWApwyy5T5g7zeGAZz8Z24Yhqe9vd25YcOGoT67PfrNbdvyA4GAuV0sD+q5554bhTkwO6luACIcxPbt24XX+zeuM1etwsEnnx39wQ/8fQCwxnuBTcpu2GyqqgZ+vOuO6OjoqG3x4sX4+MevLty4caPriSeeCP7sRw9GPvaxiwt9Ph/a29ttALB0qcMdDMLd0vJTAMCh/fszWwWciHIipYQQAh6PmYUZDo8POZYsQb7/DrHI/+Vze4CXkv+dKFpajOFonij2AZ7YujphCfmVp0fx1pF+7P6nSfRM+u340kc9ePKGEbS1MUChcTjdLBFRxiRQCBSi8OQr4XA4Cuu4g+J32CElZNMXDeyt7QP6g9CCj1tvvdW46KKLZGlpaXTnLbd4gsEgVBpUeXk5Wlr24+jRo/3pamI2EwTeeust25NPPu7+6e56929+88NCxG4YhYr7zAHWRnyctd2+ZHjdunXRM8880wgGw6isrHQDcB44sK+vt9cVidXBhuZmQ4gyPPHE74z9+/d379+//61+IAgimhIFw2Gbz+eBx+NBebkPHo8HHR0BtLe3o6urCx6P+Z6UElJKBIMSHsOw19d/qgypbhJHXVFRVg756vOGfOzWiHzs2xHZ1Q5Rssglll9airMu9STdLp1tH/CJwkgx2tqy35bmBfZYEBGlYzijQFRbqK4Qfzl2bAyJfz8TZ0k6djAif3xTBINv90DrqTD57Y2Njfbq6mrX+973PldCUOHzIRAIYO/eRzOaAcrj8eDBB38RBk70Ij6GIzaLFACfgBH71uly48ZPbV7w0//6r+ibb7wxtnz58qjNZouNx8BYeXm58fzzRxL239v7VgRpek2I6NQIhTpHXn76BU9oeNgoADA07LQ/+OtfD1ZWVo6tXLnS3dDQEF23bl3Be9/7Xqi/GcFgEOXl5di+fXvZt771rWNINlubpww49HQEh/YcBwAcuNcp1310gbjme2584lte3LF+FMAYABs2POnA+WEH+o/ZMFgQxeqXxuDXUq02+J3IjzggJXDWpU4sPt+FiqoomreYN02qmxwAHCgYtKNosYGjA2Mn36N5g4EFEVE6YxiD21xQTkgJWfROR8ufnx66yfwnbjvjjDNsMHt/4/9A7/7H3tizKAD4/X77cF6ed+Ctfvvw8AnnihVfsAHmAG3F5/NBAti1a1cEwImJqhUOC5sQAhUVpUZn5wl9mlgAwKB3gc1MqzLjDZfLifb2djz1/PNBAJGFC5cv6u5+HWq7YafTJrQpcmOL9mV+nYgoOzUNLhR4nShe6Gh+8RUHup4yEHYaKHYa6D1hABhoa2uL7tq1y/OhD31o5JOf/OTbL7zwwoLPfOYz+YCZMhUIBLBq1Sr7xo0fLX3iiT1JehUlULgYiP99GMVze4LyPVvPECsqbXLZ+iJ0PRuC328TnhWLEJaAr8Lc0nWegco3e9HWKAHYxOYbFsngYUjZB7HtJ/lYVp4vWx4FgKMAovjAZp/oe8MJlbnlk5DepkE0bukFzRuZzEdPNK9dd921nLN/HhuzuTBqjw0vMADYHXAO90G4nSgsWoBIJIITJ07Abk+XWWqD0+kY96phmH+E7Q47DMPA4OAgnE7nBPsy2e0OOBx2hMPhlLM+5eXlYXR0FIZhwDCAPJcTsJnHikYjcDicCIclnE4n8vLcGB0dQTQahc1mg9udDykH4XCMrzcRTY4BO8ZsDkRsTjQvrj5TwFy3BkIAIjYOwucDAu3AHVcch9njmWcYRlkoFBosLS3tLSsrK7rllluKzJ4Lc1OPx4Pa2tog9IkkbvrvUrFkeb58/Ltj+N973k6oyGcf84ll57rlb+6O4InvHQMAbPysD//vGQeG+0awZI0DV93sFgDkHevfBjCG9Z/w4pyNHrFsDeRzj0QxHDLwaocdrz/TDWAUV9UX4YXHBELHhrHgLBuqPusRK98L+Z2P9OLYoUHQvMAeC6IJPPDAgwzA5zP/k04hXYukDALCAyHKIDvaIrj/08f/8PSvfGsu2+xav359//79+1OOiaiurnasXr16sfpeH5wphEBHRwd27949OjAwEIKZlpAJO+AtAkJjAFL8015c8A//sGHA6XTCZrPhvvt/WXTOOd78V155JQIg7PVWuEOhzijMRfPyABTEno8tXLiw8Pjx43ZYF9QjosmpaSlGiZEwoawEYotpSkB2wfxWQnYHADNNcRTAyNVXX93/+OOPF/X39+cVFRUd37lzt/1rX/vXgo6ODkgJlJf7sHnz5gX79u07nlFd8oT5O+3OsyE2kxyeuCsInJuHs99lw8BRO97qdGDdZidUr8azD4dQeUMePMKBX90bBkJ6Ciawt7YfwBDOrbZBHrcj9JodosqN8y4vZGAxfzCwICJKx3/5mLz55yNC+PLMgZMBiAs/6JCBG4svet+Hj//p148teuSRR4qWLVuWdrA1gJOzvPh8PgBAR0cAv/tdk9HW1jaI7Bvw0dg/9jSODbpc+mROxwdeeeX4gPouFOrUx3GMQBtPcfx4vBwR5WCD34m1l5bCbqRvc6kpquNO/j3Yu3dvf3d3d2FZWZmrtbXVV1VVFTx06FC+1+t1AEB3t8T555/v2rdvnwvjxnUl4bA5AQEE/xpLo/TbcfvHigsWVLiNqM0OSMhABxAMAvlad6t3uYHgUaDUZ6AnlFBH+H+/ACXv8IiiQnMcRjBgPooL7DDTRbm45jzAwIKIaCL/UduH+v8uAw4D0gMZPAxx5Vc8ctQZ+dsPfuz4vf6bvBvOPbfwqZdeStkYl1Kiu1tCym4EAgF0dnaOHTlyZAhAGJk0BIjo9LPB78SFlyyE3Ra/sy/DgPCZvZ+QgJRmL8UEuxoYGAiHw2GxceNGd01NjXi4pWXw32+8cUEwGEQ4HIbPV46zS0s9r/b0mH9Pihck31F1kwN2mxOQwMu/NMve9o8+MdzvGnzmLuCp/xzF0eNjuOrLedj0RUsu5KAZ/BjRxJ782pZigbECeei3kE9+N4LXDo9gzRVOccNuV6w/lT3/8wQDCyKiCb00In9+e1hc+XWPlO1m1oI8DPGx7YVy7dWuf3nwPwbwaurJk5qbmyMwp2vNg5nqpB5MMSKau2x497vLYLObjepYj4QoXwkZ7IL8r1sjha6xqGPsrbHed7wvT1z09w4pu9PtbwiAkFJiy5YtRc8++8pgMBgfry0EUHr22S4891zslWLzgG+/qP+dsWEJSoVvFWTHfqCvzxyYXVTikh0vAY/W9sPsPQUWvrMUkA7YHfHtR+w25Akg1Jn4t2vYLeApA+5bPwSgBwBw1moByJJYCf6tmycYWBARZeLZu0Ny1WV54p3rHTLQDggPZKAdosDnltfudKPzwDDyPflYun4U/qVDGN/tP4xkK3QT0dz02dZS2KJqdU0IAcC3CvIX9xh45jZ54yc+Ya88Z4HtX/zNISz+SDHMMU4pPf/886OXXHIJgkGJSy+91HHhhUtdHR1/jaxcedbJXoWSkpLEHoZwN7DmSgfO/UgR3vP3dgS7PKJshR3hbuAnX43ADFZsJ3OwVl4FXOB2YHWtW3gW5UMGgag42dtQWL7ciB77M3DZNjccvnysucKGne8Jo8QRAeDE6mrgRTiw7Z+cWFFZBBkECtKeFs0xXCCPiChT936iW77++6goXxN7wWMmMHR3QSxZ4RZLzy4QOFqC5RemyEEgonnh+vvzURB1A4iPnfCtgrzncxE8c1vfnvt32nY99JDne/e1mHfy137YPkFvBbZs2RKJRCJRIKymg3YMDQUTegKcTqcdKu3ojHI7AIi1/2AXm24oEkO9BbCN2mX7I5Df/vAoBl9T3R2GfPzrg6JsJcSXHy8S79u9GLKnRLY/Dggf8Hfb8mAOJMfAj/+9X0oJcX2dS1x3SylcUS8AN5o+fQLohvi33fnih7sXC1+FD79vciDYDXFxjQ1YnndqLizNduyxICLKXAS7thyXH/2WT1zyf50Q3ZDd3YBAPFdalAFjHt60IZrPypZqNxfCEL41kPd8LrL4tb0DT718IH/VqnXuyy+/PPpCV5c5AcMirw2dR62Dt8cxDMMAzDFbo6Ojtlggkdztnx+QIy8UwhZLZep/00DfX8dgTtKQuABna32vbP1hFEv/xg13iQPdL0fQ/+aAfO5xN7wLBAAXgAh+tzOMzoftcvF7CjB4DBgYAAA7XnopLP3rQ1hTXQgnHOjpiOLIoX65+AI73nVREdCXN+6YNCcxsCAiyk4Ee7Yfl6/tL8b6fxKifA0QloDsjg2/FEjISSai+aWmwWUOjoaZAlVWDnngpwZe2xt++uBBzzmrKvNaWlrw1FNP9UGlTPYFJgwqANjsdrvd4/Hh9ddfN9544w3bhRdeaAfMtTB8PuDEiRNRqPEMf9k9hKwa8939eLNbjSE3F/zsbB2Cdca6Y8cGcWzPIMysF31xzjDam8MJrx87BBw7FAbHWMwbDCyIiLJn4I8/O4E//iwsV1cX4Pz35WPZSrO3wucDigo4AwrRfOUu95x8LgAJATx29+i9/puc51RW5gHAnXfeGQG0iaB6+wBX+o7OgwcPOu12u62sTKCxcU/0yJEjuPLKKxEMBs3xGwB6enoiqba/6abveBYudBaKhWV2l3PYNiglCgCcOHHC+NrXvvZ2ZWWNs/brV/v+4+t3ygMH9vVpmyadJvb79zX5MDCAz3/+hqCljLU8p5mdRxhYEBFN3jBebB7Gi81OAG5ZstyFRcudeOVQpovczXU1ABoyKLcCQOcU1+V0UQOgGsBWzJ5rov8cM/1Z1QKoiz1vBrBlCuqVjLozvgNA/TQdM1FeJE81rwQE5B/2Y9W6EuOft3/DLSUQDAawd+/ecNp9mJFCwg0Kj8fjLi8vRyAQQF1d3dg111zjklLG3gMCgQAOHz6ccurqsbE+l8OB/7+9+4+No8zvOP5ZO8bZSSCsNxwkkWluw92lKbSAI2h1x4+KRIhKpwqkpborVP3nHJ2ugesfyOaP6ozUXmPaKkggaKzrKS1wnLLHHU17iopNqaqz6EFcn0C0TWgsGkMC+McmwRnnl739Y+bJPDue2d9xnPX7Ja12vfvMzDOzY/v5zvM832n7+b5/0scffzxfKJxOOI6j+fmVLZJapRHNfXJnSz5/pKL5EPt/NHBuampqlbxsdwxzgiQCCwBoBC997IkPpRMfXu664MpVaSB2Jei2XmclZbR0AqVL60KyVa3+RXrHkcbenXvw63e2yHESjqShoVEpKkPcxUnendLR0QUfb9myxXFdVzfffPOZdevWtdx1110thw4dkiSl050aHv5PqUQDP5l0C1Jag4ODM5LsHomEpMLVt9yy0pXkuu68JGWz2dbb7nqgo/D5qZarrjpfOH26/Uxf32OnJOkvn3859b8j/5qYmpo6L+msstnWJ2+67dqZmXPn0+lrVmzYcEPbT3/689kDB14+taAiaGoEFgCqYRo+Q5K2lyh3RF5DYrtfFsDysU3e778tq8XpQbj8wxATF1pM0k1XjtRytvDrN266WK+jR49KZg6DxVm7VkqulTv4Q2n/n5+VdePMQqGQHB0dXXHvvfeeOdXSMv8XO3euHB8f95bzx0G9/fbb5+VNzI40KcmZndITTzzhpFK/1rZh82YdfPMX5599tu+UJN2W+s2E605qzZo1+uijj5TL5ebfe++9+fPnzyeuv/56feMbv7/6vvvua3vjjTemXvv7l+YeeujO1el0WqOjowlJWr++tX1qSu2Dg69Kkt4dHm6r6zjiikTmEgDVyIee6y2H5WOTvEZf1GNMXkN0Wt5QliPWct0KJoj2+O/1WOWy/nO4TFiPtf6CpH3yGsDhMubzLkmD1s97JKVC5TP+ekwZU59a1tmj4t6KI6HjEGWbpIPW+sx+2Y36avepkjLlmGMwpuDCQndM2W2h7ZlthgOTSsvFnQf2cTgobz/NebMnZnl7majvtgKutFpardUX35mdnZ1XeN7Bmi+2yHXl7vtuQft7TkmfT8kKPp566qnC7bff7nZ0dMzv/t73klNTUzLDoDo7OzU4OKxPPvnk81I1WStJcnT8+PHEm2/+Y/ure/vbX3/971bLv8icX3OqIElzc3MmCCq0tNxw9o477pjfsGFDYWpqVl1dXe2SVvzylwdOnTzZNufXIaFcruA4a/XGG28VhoeHJ4eHh49/7t0UFMsMPRYAyknJ+0c8oKCRMCbvH3O3/7pf3njqlLzx1ObzMXn/nLPyei8INBDHPo8y8s6bnIJx+iNaeMU7Ja8hbTPnYa/13qAWBhFZ//Gwv52wg6GfTcN4h/+c8cvYjW4TaMSN7y+3zmqYACAs63+2qYbtZ/x1piLKVCqloAGek/e9mR6MrIqPtdleWLe/zFZ5fzMqLRdnl4oDjbhjF17GZr7b8nNMCivmpXnrRnWr9eGnn15QcZurOEvSpwfn3H/40zmd/mxaVk+Fp69lYGCgJZvNtt19991tRUFFOq3x8XHt3//jijJAJZNJvfTSP89KJ04q6N3xs0hJSjtyjx+fl6S/3vOjte0nxq969Sc/mT/28ccXNm7cOJ9IJPz5GLrQ2dlZeOed4tj35MnjcyrRa4LmR48FgHK65f1T3aWgYdLtv+5W0PAwrwcVNCyO+Mt1qaarfWgidq9C+Kqz0S+vISoFV/BNIzeq8W0CWdPzYQLfHgVXsnsUBBW9frlN1nbirsib9XYoaEja57AJYMYU9MaYYKKnhnX2h/Zxk6KDA8M0lEcU7L8JpjJaeCW/kn2y6/2wX7Zcoz0sa60j5z/M8uEgxWw7r+AYmiGWGat8peWipBQcqyF5+27OlVI9MXl/G/ZxtesS74IuJm9wXFe6+kutgx98cEF+A37dunUJhdtfL/zhSZ3+bEJ+UNHX19fy5Pe/n96588nrurtPXP/4449fu3Xr1rbx8fGLQUU6nZYr6fnnn5+TdKJctWZnnYTjOMpkOszvnuk5KUjS6dQ1Ccdx9HlLy7wkfemLa68aHR3Vv73zztThY8emr7tuo1lVQZLOrliRcKwUuf5N+8oeHjQ3AgsA5fTLa1z0KmiMpOT1YPQqaPx0+D8PWMvm/fe2Wu/bwwsqfWD5MI3rlIKAwA444sqHX2dDz0MKGv5jCrIUpRTdMDXryis4d1PWs1nvgILfi17r83APSbl1Vss0/LcryMAUvspe7fZNnU1AIEX3FJVijuWIgu/MbCtq7oWpgxl6NKQgUIrqoaqknM3+HnoVBDk7VDpgsntoq5sbUpi+ODHbdV3pd+5JHPiXDwsvP/vUaUm65557EvLvZG0pGh71/vvvJ9rPnWhPp9vb1q+/NjE7O6vZWS+RlCNv+JMkvfDCC/OfffbZtCpI6ZpMJguu6+rcuXPhbXvb/OitOdd19eD996+SlPjb3btnvrJ5s3bv3r22r6//hqNH/7slnU5LXhYof/8k+T0friudbW2NXDeWD4ZCAajEiIKrwCMKeiDCKSRNOVnlunS50j7iSmQasuY8MkOkooypuHFofrYby13+cziJgF02qnFfqtFpl49r0Ec1oBs5FNAMzekqV7CK7Zs6h4O4SrM5md938zrqooA9iTunoJfEBCS7/O0N1FAuiv092PuVVzBkM0rt39UXrjvjuG3XuO6U5CTlyJW7/Y+dRx771sSWW+9ov+2uB9q++tWvtg8PD5cZMhR0B7iuK8dxlE6n5TiODh06pL17956fmZnJS6oovfXTT/ecllItUj6y/H/lcud25v795Pr1rUlJrQcOHDh14MDB+S9/ObXy8OHDc5JmU6lMu/xA4rvf+mZe0ip/8fne3sdOTUxMtPifc0FomaLHAkAl9shrEIzJu0LaL++fvD0e2x6f3Ssv6Mj7y5W7kormFzd5O2qIUzWN5aUqKrBoJDuo6JV3HGuZq9FIlQx3tOc6mGFkvSpu9Juhl7uqLLc09P3uBXcuf85x0pIruZPjcm69v1Vf+/aa2+/+vYl3X//ZhVdeeeXqSlaVTCaVTCbV2dmpdDqt8fEp7d27t/Dcc8/NzMzMTKrCoMI3L+VPSjodX+TT08eOHbPWOzFz+PDhSXl/y8/k82Mn5d2JW/LmUlwMbCYmJkwaW4KKZYzAAkAldsi74muChV4FKWfNlT0TdOTkBR5j/nI5FY9R7ld8dqC4B5YPe06E5DUe4+7tkFFx70FU74NpiIaHJnVZZau9v4J9NdvM26gkYGqUjIqDin55V+5rHVZlmGMVDuwqDZIqmehtDyOTvGNphlsm5P2NMfWopVyY/d3a+5XSpQz+/qbnlNI3+p0OSblT/yPn608mdefOa37r/ocmXv/h7jP3btlSckKC67oaH5/SoUOHtH//fj3zzDMXnnvu6ZmRkZFJ0YAHAACL7dFHHymYx2XYvJ0qttTDNEjtlLODKp6PE55kXLDKmQa1nY40E1HWXC03GZ0K/vZSEWVtUe+bbZl7toTLbSuxbNz7Weu9Ur02KaucyYplp0+N2/9y299lvWe+k20qTtMb1xi36x6V8teus8nIZFL12sfQZKEzaWGrKaeIOoS3a75rO01wXLpZVfB+vK99O+X0T6zXn7x+8eH0H12v7wylddMD7dJN7WXW0C7paklJSW3iIguuAPRYAFhsTN5GnHAWKNPzZT4LN2rzKm742pO9x6zX5sq2aTgfUdBwN71w1bIzMJkGvRmSY0/8rYZ9df2gvP2KkrfWbxr0B1V8fGrpvRhQcCz2aGFjvBS7t2Ig4vO8ggnhZhJ3v4J0suYYTiv4bvqt50rKRclbn9vnSpcudfrrX7yQdz8YnHM6N0ualRzJHR+Vs2plux7ZndYf/dlqde9bo75jjqLbY2flDTualZctir+FWPIILAAAS4G5J4FUnIHMzt4UHhJlUoLa4+53qHjonRRkNbMbkjn//VrvDD/iL2/fl8EME6x1GNSIiutequEbvv9GTt48BLNMVFaqcsa08JiY7G+lZFScUSqu3nZ9s/L2d7sWBiJm2KWdmaqScnF6VbwP4WGcl84Pvjnp/t9/zDudt/lvJOXKlSaPyrlhU7uz/qZVjj65VhtvveaS1wVYBHSrAVhsJjVmNfhbVSN7CNSLL77ULMfRnENmUi9QCzO0ql/lg6d6tOrBv0o7v/0HKzQ7KXdy0k74JMdZK/cH3zmjj96K66ECrhj0WABYbEzeBrBYMgqGVNpzMcyNP6X4e6Q0ypx+9sSE+8pjrjs5LqdzsxznRjkXowtHamllmBOaAvexAAAAzWpMxffUCTfgx1T7cLhqFPSr107oV6/Nur+RXaVb7l6pG78ix1krpdPS1au4gIKmQGABAACambk7eTijk0nTe+nnWgTO6v3cWb2fWyGp3b12Y5u+sHGFDr9bzf0ogCWLCBkAmliTzrEAACxBzLEAAAAAUDcCCwAAAAB1I7AAAAAAUDcCCwAAAAB1I7AAAAAAUDcCCwAAAAB1I7AAAAAAUDdymgMx7Pz/AAA0AveTQTPj5AaAJsYN8gAAi4WhUAAAAADqRmABAAAAoG4EFgAAAADqRmABAAAAoG4EFgAAAADqRmABAAAAoG4EFgAa6aCkgv9sy/rvF/zXAACgyRBYAGiUlKQu//VQ6LMu63X4MwAA0AQILAA0yjbr9UjMZyOS8otTHQAAsJgILAA0SlyvRKmeDAAA0CQILAA0SlyvRFRPRo+COReVPgAAwBJGYAGgEZhfAQDAMkdgAaAR7F6J8ByKbdb7zK+4ch1R6R6lI1ZZ817PItexUqX2Y4+kTIllatmnapY1x3lPDdu53Kqte0rStILj01W6eMPYPaYAGojAAkAj2A2xuB4L+/1+SYkqH8Bi6JbXQF6sRu5ylpUXXBjdl6siABqDwAJAI5hGWF7FGaHsxlk4UxSwlO0L/WwC3P4a1lXPss0sfE+bcKBxqdgXNgA0EIEFgEYww53CvRX2ECn7MyZvX7kGFN2jtKmCZbvkNdjNdzqt+OFBlZTNqHiYUbVDcXpD+7BVwXmae6nbBQAABYlJREFUUXHDNzycyQzh2RVRb1O2O2ZZw/49OKLSN4/sVvGwoT2qvBG+S8W/S9Na2Dtg17GSelVT9ygZBX8fBvznVIn1hP9mHInYh0rLxQ2F6pI0qOJj0W39nIlYPrxMNd8LAAAIsRtS4YaTaRhOh94nsFgkjz76SME86lxVNY32qPNhm+K/2/Cd2istm4kpE27sV1I/wx73v6vEMqaxHj637fdTMcva5UrN9ShX9ojKN2Lt4Cz8sBvc5X7/7OGO1dQ9jv03ICXve406F+SvL25bPTWUiwosMioO3OxjXCqwqHX/gaZEjwWAesX1StifkQ2qedhXcOManmEpBUOLRuT1biTk9RhIXnDaU0NZ25hVNlfNDoXYw/lKzbMw2whfZc9an8clK8go2IchSR3y6j0QUdbeX9PDslXe/mZUel5Cl1Wfh/1lO6x6Re1fXtJ2FR9zWeuppu6lmHqb42SOZ5eK/6bYZe0hTOZvSk8N5eLqY4I0c6y2q3zgllNwXMf896rtvQGaBoEFgHqVml9h/imH51cweXt52abgXOhV0ADrV9Ag7amhrC1nlV2M+Twj1nZMQ7hLQYBVKrixG869Chr69mvDNFLzCuZojCg4FqUasSMq/v3pkTdsp1RjeUBBYzxqTkg1dY+T1cLjNBD63Ja33u/x62CCn44aykUx+5Wz6jSk8vNidljbtod0AcsSgQWAelU7vwLLT6msYSYYSPmPaspGfWZEDadq9BAV0wDNhp7HVPqct+tuB0F5LdyPlPUcNdyrXPYqM2xnn79MufLlgoNq6h7HDhyihkuGJ3GbBntG3j6YOQ17VLw/lZaLYj4PB6Xl9okU2oCFwAJAPUr1SsT1ZODKFjd5u9JG5VJn3+yx3D6FJx13h95fLHHD0LIKApAheb0Km3R5v6tSE7TtMvYQr155w5PCvQfd8oKHTJXlAFwiBBYA6sH8ClTCbsiGx8/bjfjwVe9yZRsto+KsPuXOXXtugD1Gv9wcD3sf7Svp4R4bsw3zHDdMMC5QsG9OuV1eg3tM9Q3VqabuUSq9V0U4+MgpmGPSoSB4SKn4PKm0XFjcvBqCEaAKBBYA6lHL/AosP0MKGsi7VJxdxzQgB2ooW26b4Qb4jlCZcHYjO23qmCqbBG7K2IF0uR4BO2CxA5moVKWmbErFE9xNtqLBEtsxx9HuhdkVsY1qVFP3KPackaggyQQCZhJ3VNa5cACar6JcHLNfWauO21R+0jcAAGgQk54xfDOxcJ53XCZLKN1sVtHZpKIax5WWtdPNVnPX5nKpVaPO21Ipau00pVH1qDfdbFzK2OmIetpKpe0N/97G7V+9dY+rT1xKYDtAMOsplUbWTk9bablq0s0etF5HpZu1xb0PLBv0WACoh0k1+XDofTvrEz0WkLwr+1tV3AuQlzdsZXsdZRutX948hGrOW9ODYg+NKqdXxT0oY/J+j6J6Ox7WwqxLOXnHolQ9h/xl7eFUOxSkkbUzcFWjmrrb7OFNccfJzrZlJnGbOofXHz4fKi0XZcwvY/fI7NDiz5cBrmikcASAJmb3VLz44kv8zQeq062g58S+BwiACPRYAACA5c4eRmV6VuzsVCMiqADKIrAAAADLnT0Eyr63hpnDUs/d3IFlg8ACAAAsdzl580TCc1ZG5M21KHcHbgCSVlzuCgAAACwBOdEzAdSFHgsAAAAAdSOwAAAAAFA3AgsAAAAAdSOwAAAAAFA3AgsAAAAAdSOwAAAAAFA3AgsAAAAAdSOwAAAAAFA3AgsAAAAAdSOwAAAAAFA3AgsAAAAAdSOwAAAAAAAAAAAAAAAAAAAAAAAAAAAAAAAAAAAAAAAAAAAAAAAAAAAAAAAAAAAAAAAAAAAAAAAAAAAAAAAAAAAAAAAAAACgafw/H5ZkX7bCBdYAAAAASUVORK5CYII=)"
      ],
      "metadata": {
        "id": "IiOYVzB8kh63"
      }
    },
    {
      "cell_type": "code",
      "source": [],
      "metadata": {
        "id": "BU-qVAKok-05"
      },
      "execution_count": null,
      "outputs": []
    },
    {
      "cell_type": "markdown",
      "source": [
        "# 9. What is a dynamically typed language?\n",
        "\n",
        "Before we understand a dynamically typed language, we should learn about what typing is. Typing refers to type-checking in programming languages. In a strongly-typed language, such as Python, \"1\" + 2 will result in a type error since these languages don't allow for \"type-coercion\" (implicit conversion of data types). On the other hand, a weakly-typed language, such as Javascript, will simply output \"12\" as result.\n",
        "\n",
        "Type-checking can be done at two stages -\n",
        "\n",
        "Static - Data Types are checked before execution.\n",
        "Dynamic - Data Types are checked during execution.\n",
        "Python is an interpreted language, executes each statement line by line and thus type-checking is done on the fly, during execution. Hence, Python is a Dynamically Typed Language.\n",
        "\n"
      ],
      "metadata": {
        "id": "WiYpVqmNlSJW"
      }
    },
    {
      "cell_type": "code",
      "source": [],
      "metadata": {
        "id": "zYBqoAqvlr7s"
      },
      "execution_count": null,
      "outputs": []
    },
    {
      "cell_type": "markdown",
      "source": [
        "# 10. What are global, protected and private attributes in Python?\n",
        "\n",
        "Global variables are public variables that are defined in the global scope. To use the variable in the global scope inside a function, we use the global keyword.\n",
        "Protected attributes are attributes defined with an underscore prefixed to their identifier eg. _sara. They can still be accessed and modified from outside the class they are defined in but a responsible developer should refrain from doing so.\n",
        "Private attributes are attributes with double underscore prefixed to their identifier eg. __ansh. They cannot be accessed or modified from the outside directly and will result in an AttributeError if such an attempt is made."
      ],
      "metadata": {
        "id": "v2TJv69-l7bN"
      }
    },
    {
      "cell_type": "code",
      "source": [],
      "metadata": {
        "id": "lScLhVKzl-3S"
      },
      "execution_count": null,
      "outputs": []
    },
    {
      "cell_type": "markdown",
      "source": [
        "# Q11.What are decorators in Python?\n",
        "\n",
        "Ans: Decorators are used to add some design patterns to a function without changing its structure. Decorators generally are defined before the function they are enhancing. To apply a decorator we first define the decorator function. Then we write the function it is applied to and simply add the decorator function above the function it has to be applied to. For this, we use the @ symbol before the decorator."
      ],
      "metadata": {
        "id": "03qP9NQtl_H9"
      }
    },
    {
      "cell_type": "code",
      "source": [],
      "metadata": {
        "id": "v_ki7KtzmhCr"
      },
      "execution_count": null,
      "outputs": []
    },
    {
      "cell_type": "markdown",
      "source": [
        "#12.What are the common built-in data types in Python?\n",
        "\n",
        "Ans: The common built-in data types in python are-\n",
        "\n",
        "Numbers– They include integers, floating-point numbers, and complex numbers. eg. 1, 7.9,3+4i\n",
        "\n",
        "List– An ordered sequence of items is called a list. The elements of a list may belong to different data types. Eg. [5,’market’,2.4]\n",
        "\n",
        "Tuple– It is also an ordered sequence of elements. Unlike lists , tuples are immutable, which means they can’t be changed. Eg. (3,’tool’,1)\n",
        "\n",
        "String– A sequence of characters is called a string. They are declared within single or double-quotes. Eg. “Sana”, ‘She is going to the market’, etc.\n",
        "\n",
        "Set– Sets are a collection of unique items that are not in order. Eg. {7,6,8}\n",
        "\n",
        "Dictionary– A dictionary stores values in key and value pairs where each value can be accessed through its key. The order of items is not important. Eg. {1:’apple’,2:’mango}\n",
        "\n",
        "Boolean– There are 2 boolean values- True and False"
      ],
      "metadata": {
        "id": "6BgHluAgmhMq"
      }
    },
    {
      "cell_type": "code",
      "source": [],
      "metadata": {
        "id": "XTlhOVyGmvU9"
      },
      "execution_count": null,
      "outputs": []
    },
    {
      "cell_type": "markdown",
      "source": [
        "# Q13. What is the difference between .py and .pyc files?\n",
        "\n",
        "Ans: The .py files are the python source code files. While the .pyc files contain the bytecode of the python files. .pyc files are created when the code is imported from some other source. The interpreter converts the source .py files to .pyc files which helps by saving time."
      ],
      "metadata": {
        "id": "9yzQMsKEmvek"
      }
    },
    {
      "cell_type": "code",
      "source": [],
      "metadata": {
        "id": "7tlmgYCPm4FB"
      },
      "execution_count": null,
      "outputs": []
    },
    {
      "cell_type": "markdown",
      "source": [
        "# 14. Explain List, Tuple, Set, and Dictionary and provide at least one instance where each of these collection types can be used.\n",
        "\n",
        "Answer:\n",
        "\n",
        "List: It is the collection of items of different data types that can be changed at run time. Mainly lists are used where the user wants to store the items in a particular order.\n",
        "\n",
        "\n",
        "Tuple: It is the collection of items of different data types that cannot be changed. It provides read-only access. Tuples are used when the user wants to secure your data collection set and do not need any modification.\n",
        "\n",
        "Set: It is the collection of items of a similar data type. Basically, sets are used to perform mathematical operations like union, intersection, differences, etc.\n",
        "\n",
        "Dictionary: It is the collection of items with key-value pairs.\n",
        "\n",
        "Dictionaries are used while performing the mapping to match the items with their values.\n",
        "\n",
        "Generally, List and Dictionary are extensively used by programmers as both of them provide flexibility in data collection."
      ],
      "metadata": {
        "id": "I5akkGUTm4Rt"
      }
    },
    {
      "cell_type": "code",
      "source": [],
      "metadata": {
        "id": "hTg1c9ZEoUtP"
      },
      "execution_count": null,
      "outputs": []
    },
    {
      "cell_type": "markdown",
      "source": [
        "# 15.Q How does for Loop and while Loop differs in Python and when do you choose to use them?\n",
        "\n",
        "Answer: “for” Loop is generally used to iterate through the elements of various collection types such as List, Tuple, Set, and Dictionary. Developers use a “for” loop where they have both the conditions start and the end.\n",
        "\n",
        "“while” loop is the actual looping feature that is used in any other programming language. Developers use a while loop where they just have the end conditions.\n",
        "\n",
        "This is how Python differs in handling loops from the other programming languages."
      ],
      "metadata": {
        "id": "hysz2e8oqWhR"
      }
    },
    {
      "cell_type": "code",
      "source": [],
      "metadata": {
        "id": "UaDH-ghyqitD"
      },
      "execution_count": null,
      "outputs": []
    },
    {
      "cell_type": "markdown",
      "source": [
        "# 16. How are data types defined in Python and how many bytes do integer and decimal data types can hold?\n",
        "\n",
        "Answer: In Python, there is no need to define a variable’s data type explicitly.\n",
        "\n",
        "Based on the value assigned to a variable, Python stores the appropriate data type. In the case of numbers such as Integer, Float, etc, the length of data is unlimited."
      ],
      "metadata": {
        "id": "srPEvXwPqi4Y"
      }
    },
    {
      "cell_type": "code",
      "source": [],
      "metadata": {
        "id": "D_3JtrLfqtPM"
      },
      "execution_count": null,
      "outputs": []
    },
    {
      "cell_type": "markdown",
      "source": [
        "# 17. What is the starting point of Python code execution?\n",
        "\n",
        "Answer: As Python is an interpreter, it starts reading the code from the source file and then executing them.\n",
        "\n",
        "However, if you want to start from the main function, you should have the following special variable set in your source file:\n",
        "\n",
        "if__name__== \"__main__\n",
        "main()"
      ],
      "metadata": {
        "id": "dz3AzdHMqtje"
      }
    },
    {
      "cell_type": "code",
      "source": [],
      "metadata": {
        "id": "65K0bVN_q9SL"
      },
      "execution_count": null,
      "outputs": []
    },
    {
      "cell_type": "markdown",
      "source": [
        "# 18. What are the different environment variables identified by Python?\n",
        "\n",
        "Answer: They are:\n",
        "\n",
        "PYTHONPATH: This environment variable helps the interpreter where to locate the module files imported into the program.\n",
        "\n",
        "PYTHONSTARTUP: This environment variable contains the path of the Initialization file containing source code.\n",
        "\n",
        "PYTHONCASEOK: This variable is used to find the first case-insensitive match in the import statement."
      ],
      "metadata": {
        "id": "EpIuRcOGq9cV"
      }
    },
    {
      "cell_type": "code",
      "source": [],
      "metadata": {
        "id": "eDeBwdsLrOfB"
      },
      "execution_count": null,
      "outputs": []
    },
    {
      "cell_type": "markdown",
      "source": [
        "#19. What is pickling and unpickling?\n",
        "\n",
        "Answer: Using a “Pickle” module, the Python objects get converted into string representations and to serialize and unserialize the objects in Python. Pickling is used to conserve the Python objects.\n",
        "\n",
        "It contains four methods:\n",
        "\n",
        "pickle.dump(obj, file, protocol=None, *, fix_imports=True, buffer_callback=None)\n",
        "pickle.dumps(obj, protocol=None, *, fix_imports=True, buffer_callback=None)\n",
        "pickle.load(file, *, fix_imports=True, encoding=”ASCII”, errors=”strict”, buffers=None)\n",
        "pickle.loads(bytes_object, *, fix_imports=True, encoding=”ASCII”, errors=”strict”, buffers=None)\n",
        "The first two methods are used in the pickling process, and the other two methods are used for the unpickling process.\n",
        "\n",
        "The opposite process of “pickling” is called “unpickling”."
      ],
      "metadata": {
        "id": "bZTFdR6brOvz"
      }
    },
    {
      "cell_type": "code",
      "source": [],
      "metadata": {
        "id": "BoXeTPXLrpHC"
      },
      "execution_count": null,
      "outputs": []
    },
    {
      "cell_type": "markdown",
      "source": [
        " # 20. Explain Python Functions?\n",
        "\n",
        "A function is a section of the program or a block of code that is written once and can be executed whenever required in the program. A function is a block of self-contained statements which has a valid name, parameters list, and body. Functions make programming more functional and modular to perform modular tasks. Python provides several built-in functions to complete tasks and also allows a user to create new functions as well.\n",
        "\n",
        "There are three types of functions:\n",
        "\n",
        "Built-In Functions: copy(), len(), count() are the some built-in functions.\n",
        "User-defined Functions: Functions which are defined by a user known as user-defined functions.\n",
        "Anonymous functions: These functions are also known as lambda functions because they are not declared with the standard def keyword.\n",
        "Example: A general syntax of user defined function is given below.\n",
        "\n",
        "def function_name(parameters list):    \n",
        "    #--- statements---    \n",
        "    return a_value    "
      ],
      "metadata": {
        "id": "zeAmiBTerpXw"
      }
    }
  ]
}